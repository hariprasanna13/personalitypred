{
 "cells": [
  {
   "cell_type": "code",
   "execution_count": 40,
   "metadata": {},
   "outputs": [],
   "source": [
    "import pandas as pd\n",
    "import matplotlib.pyplot as plt\n",
    "import re\n",
    "import os"
   ]
  },
  {
   "cell_type": "code",
   "execution_count": 42,
   "metadata": {},
   "outputs": [],
   "source": [
    "from sklearn.feature_extraction.text import CountVectorizer\n",
    "from sklearn.feature_extraction.text import TfidfTransformer\n",
    "\n",
    "from sklearn.model_selection import train_test_split\n",
    "from sklearn.metrics import classification_report\n",
    "from sklearn.pipeline import make_pipeline\n",
    "\n",
    "from sklearn.naive_bayes import GaussianNB\n",
    "from sklearn.naive_bayes import MultinomialNB\n",
    "from sklearn.linear_model import LogisticRegression\n",
    "from sklearn.ensemble import RandomForestClassifier"
   ]
  },
  {
   "cell_type": "code",
   "execution_count": 2,
   "metadata": {},
   "outputs": [],
   "source": [
    "#Variables\n",
    "data_path = os.path.join('..','data')\n",
    "img_path = os.path.join('..','static','images')\n",
    "re_link = re.compile(r\"(https?:?\\/\\/)?(www[1-3]?.?)?((([a-zA-Z0-9\\-]*)\\.?)*)\")"
   ]
  },
  {
   "cell_type": "code",
   "execution_count": 3,
   "metadata": {},
   "outputs": [],
   "source": [
    "def unique_words(s):\n",
    "    unique = set(s.split(' ')) \n",
    "    return len(unique)\n",
    "\n",
    "def emojis(post):\n",
    "    # does not include emojis made purely from symbols, only :word:\n",
    "    emoji_count = 0\n",
    "    words = post.split()\n",
    "    for e in words:\n",
    "        if 'http' not in e:\n",
    "            if e.count(':')==2:\n",
    "                emoji_count+=1\n",
    "    return emoji_count\n",
    "\n",
    "def colons(post):\n",
    "    # Includes colons used in emojis\n",
    "    colon_count = 0\n",
    "    words = post.split()\n",
    "    for e in words:\n",
    "        if 'http' not in e:\n",
    "            colon_count+=e.count(':')\n",
    "    return colon_count"
   ]
  },
  {
   "cell_type": "code",
   "execution_count": 4,
   "metadata": {},
   "outputs": [],
   "source": [
    "#Pull in csv\n",
    "mbti_user = pd.read_csv(os.path.join(data_path,'mbti_1.csv'))"
   ]
  },
  {
   "cell_type": "markdown",
   "metadata": {},
   "source": [
    "## User level data gathering"
   ]
  },
  {
   "cell_type": "code",
   "execution_count": 5,
   "metadata": {},
   "outputs": [],
   "source": [
    "#Replace links with domain\n",
    "mbti_user['clean_posts'] = mbti_user['posts'].str.replace(\n",
    "    re.compile(r\"https?:\\/\\/(www)?.?([A-Za-z_0-9-]+).*\"),\n",
    "    lambda match: match.group(2)\n",
    "    )"
   ]
  },
  {
   "cell_type": "code",
   "execution_count": 6,
   "metadata": {},
   "outputs": [],
   "source": [
    "#Counting words\n",
    "mbti_user['unique_words'] = mbti_user['posts'].str.replace('|||', ' ').apply(unique_words)\n",
    "mbti_user['word_count'] = mbti_user['posts'].apply(lambda s : s.count(' ')+1)"
   ]
  },
  {
   "cell_type": "code",
   "execution_count": 7,
   "metadata": {},
   "outputs": [],
   "source": [
    "#Counting grammer\n",
    "mbti_user['qm'] = mbti_user['posts'].apply(lambda s : s.count('?'))\n",
    "mbti_user['em'] = mbti_user['posts'].apply(lambda s : s.count('!'))\n",
    "mbti_user['colons'] = mbti_user['posts'].apply(colons)\n",
    "mbti_user['emojis'] = mbti_user['posts'].apply(emojis)"
   ]
  },
  {
   "cell_type": "code",
   "execution_count": 8,
   "metadata": {},
   "outputs": [],
   "source": [
    "#Counting links\n",
    "mbti_user['link_count'] = mbti_user['posts'].apply(lambda s : s.count('http'))\n",
    "# mbti_user['unique_domains'] = mbti_user['posts'].replace('|||', ' ').apply(domains)\n",
    "# mbti_user['unique_domains_count'] = mbti_user['unique_domains'].apply(len)\n",
    "mbti_user['youtube_link'] = mbti_user['posts'].apply(lambda s : s.count('youtube') + s.count('youtu.be'))\n"
   ]
  },
  {
   "cell_type": "code",
   "execution_count": 9,
   "metadata": {},
   "outputs": [],
   "source": [
    "#Splitting out the different personality elements\n",
    "mbti_user['extroverted'] = mbti_user['type'].apply(lambda s : 1 if s[0] == 'E' else 0)\n",
    "mbti_user['sensor'] = mbti_user['type'].apply(lambda s : 1 if s[1] == 'S' else 0)\n",
    "mbti_user['thinker'] = mbti_user['type'].apply(lambda s : 1 if s[2] == 'T' else 0)\n",
    "mbti_user['judger'] = mbti_user['type'].apply(lambda s : 1 if s[3] == 'J' else 0)"
   ]
  },
  {
   "cell_type": "code",
   "execution_count": 10,
   "metadata": {},
   "outputs": [
    {
     "data": {
      "text/html": [
       "<div>\n",
       "<style scoped>\n",
       "    .dataframe tbody tr th:only-of-type {\n",
       "        vertical-align: middle;\n",
       "    }\n",
       "\n",
       "    .dataframe tbody tr th {\n",
       "        vertical-align: top;\n",
       "    }\n",
       "\n",
       "    .dataframe thead th {\n",
       "        text-align: right;\n",
       "    }\n",
       "</style>\n",
       "<table border=\"1\" class=\"dataframe\">\n",
       "  <thead>\n",
       "    <tr style=\"text-align: right;\">\n",
       "      <th></th>\n",
       "      <th>type</th>\n",
       "      <th>posts</th>\n",
       "      <th>clean_posts</th>\n",
       "      <th>unique_words</th>\n",
       "      <th>word_count</th>\n",
       "      <th>qm</th>\n",
       "      <th>em</th>\n",
       "      <th>colons</th>\n",
       "      <th>emojis</th>\n",
       "      <th>link_count</th>\n",
       "      <th>youtube_link</th>\n",
       "      <th>extroverted</th>\n",
       "      <th>sensor</th>\n",
       "      <th>thinker</th>\n",
       "      <th>judger</th>\n",
       "    </tr>\n",
       "  </thead>\n",
       "  <tbody>\n",
       "    <tr>\n",
       "      <th>0</th>\n",
       "      <td>INFJ</td>\n",
       "      <td>'http://www.youtube.com/watch?v=qsXHcwe3krw|||...</td>\n",
       "      <td>'youtube</td>\n",
       "      <td>77</td>\n",
       "      <td>578</td>\n",
       "      <td>18</td>\n",
       "      <td>3</td>\n",
       "      <td>7</td>\n",
       "      <td>2</td>\n",
       "      <td>24</td>\n",
       "      <td>16</td>\n",
       "      <td>0</td>\n",
       "      <td>0</td>\n",
       "      <td>0</td>\n",
       "      <td>1</td>\n",
       "    </tr>\n",
       "    <tr>\n",
       "      <th>1</th>\n",
       "      <td>ENTP</td>\n",
       "      <td>'I'm finding the lack of me in these posts ver...</td>\n",
       "      <td>'I'm finding the lack of me in these posts ver...</td>\n",
       "      <td>77</td>\n",
       "      <td>1194</td>\n",
       "      <td>5</td>\n",
       "      <td>0</td>\n",
       "      <td>18</td>\n",
       "      <td>0</td>\n",
       "      <td>10</td>\n",
       "      <td>1</td>\n",
       "      <td>1</td>\n",
       "      <td>0</td>\n",
       "      <td>1</td>\n",
       "      <td>0</td>\n",
       "    </tr>\n",
       "    <tr>\n",
       "      <th>2</th>\n",
       "      <td>INTP</td>\n",
       "      <td>'Good one  _____   https://www.youtube.com/wat...</td>\n",
       "      <td>'Good one  _____   youtube</td>\n",
       "      <td>72</td>\n",
       "      <td>869</td>\n",
       "      <td>12</td>\n",
       "      <td>4</td>\n",
       "      <td>13</td>\n",
       "      <td>0</td>\n",
       "      <td>5</td>\n",
       "      <td>3</td>\n",
       "      <td>0</td>\n",
       "      <td>0</td>\n",
       "      <td>1</td>\n",
       "      <td>0</td>\n",
       "    </tr>\n",
       "    <tr>\n",
       "      <th>3</th>\n",
       "      <td>INTJ</td>\n",
       "      <td>'Dear INTP,   I enjoyed our conversation the o...</td>\n",
       "      <td>'Dear INTP,   I enjoyed our conversation the o...</td>\n",
       "      <td>74</td>\n",
       "      <td>1101</td>\n",
       "      <td>11</td>\n",
       "      <td>3</td>\n",
       "      <td>3</td>\n",
       "      <td>0</td>\n",
       "      <td>2</td>\n",
       "      <td>2</td>\n",
       "      <td>0</td>\n",
       "      <td>0</td>\n",
       "      <td>1</td>\n",
       "      <td>1</td>\n",
       "    </tr>\n",
       "    <tr>\n",
       "      <th>4</th>\n",
       "      <td>ENTJ</td>\n",
       "      <td>'You're fired.|||That's another silly misconce...</td>\n",
       "      <td>'You're fired.|||That's another silly misconce...</td>\n",
       "      <td>77</td>\n",
       "      <td>987</td>\n",
       "      <td>10</td>\n",
       "      <td>1</td>\n",
       "      <td>7</td>\n",
       "      <td>1</td>\n",
       "      <td>6</td>\n",
       "      <td>3</td>\n",
       "      <td>1</td>\n",
       "      <td>0</td>\n",
       "      <td>1</td>\n",
       "      <td>1</td>\n",
       "    </tr>\n",
       "  </tbody>\n",
       "</table>\n",
       "</div>"
      ],
      "text/plain": [
       "   type                                              posts  \\\n",
       "0  INFJ  'http://www.youtube.com/watch?v=qsXHcwe3krw|||...   \n",
       "1  ENTP  'I'm finding the lack of me in these posts ver...   \n",
       "2  INTP  'Good one  _____   https://www.youtube.com/wat...   \n",
       "3  INTJ  'Dear INTP,   I enjoyed our conversation the o...   \n",
       "4  ENTJ  'You're fired.|||That's another silly misconce...   \n",
       "\n",
       "                                         clean_posts  unique_words  \\\n",
       "0                                           'youtube            77   \n",
       "1  'I'm finding the lack of me in these posts ver...            77   \n",
       "2                         'Good one  _____   youtube            72   \n",
       "3  'Dear INTP,   I enjoyed our conversation the o...            74   \n",
       "4  'You're fired.|||That's another silly misconce...            77   \n",
       "\n",
       "   word_count  qm  em  colons  emojis  link_count  youtube_link  extroverted  \\\n",
       "0         578  18   3       7       2          24            16            0   \n",
       "1        1194   5   0      18       0          10             1            1   \n",
       "2         869  12   4      13       0           5             3            0   \n",
       "3        1101  11   3       3       0           2             2            0   \n",
       "4         987  10   1       7       1           6             3            1   \n",
       "\n",
       "   sensor  thinker  judger  \n",
       "0       0        0       1  \n",
       "1       0        1       0  \n",
       "2       0        1       0  \n",
       "3       0        1       1  \n",
       "4       0        1       1  "
      ]
     },
     "execution_count": 10,
     "metadata": {},
     "output_type": "execute_result"
    }
   ],
   "source": [
    "mbti_user.head()"
   ]
  },
  {
   "cell_type": "markdown",
   "metadata": {},
   "source": [
    "## Post level data gathering"
   ]
  },
  {
   "cell_type": "code",
   "execution_count": 11,
   "metadata": {},
   "outputs": [],
   "source": [
    "posts = mbti_user.apply(lambda x: pd.Series(x['posts'].split('|||')), axis=1).stack().reset_index(level=1, drop=True)\n",
    "posts.name = 'post'\n",
    "mbti_post = mbti_user[['type']].join(posts)\n",
    "mbti_post['post'] = pd.Series(mbti_post['post'], dtype=object)\n",
    "mbti_post = mbti_post.reset_index().rename(columns={'index':'id'})"
   ]
  },
  {
   "cell_type": "code",
   "execution_count": 12,
   "metadata": {},
   "outputs": [],
   "source": [
    "#Replace links with domains\n",
    "mbti_post['clean_post'] = mbti_post['post'].str.replace(\n",
    "    re.compile(r\"https?:\\/\\/(www)?.?([A-Za-z_0-9-]+).*\"),\n",
    "    lambda match: match.group(2)\n",
    "    )"
   ]
  },
  {
   "cell_type": "code",
   "execution_count": 13,
   "metadata": {},
   "outputs": [],
   "source": [
    "#Counting words\n",
    "mbti_post['unique_words'] = mbti_post['clean_post'].apply(unique_words)\n",
    "mbti_post['word_count'] = mbti_post['clean_post'].apply(lambda s : s.count(' ')+1)"
   ]
  },
  {
   "cell_type": "code",
   "execution_count": 14,
   "metadata": {},
   "outputs": [],
   "source": [
    "#Counting links\n",
    "mbti_post['link_count'] = mbti_post['post'].apply(lambda s : s.count('http'))\n",
    "mbti_post['youtube_link'] = mbti_post['post'].apply(lambda s : s.count('youtube') + s.count('youtu.be'))"
   ]
  },
  {
   "cell_type": "code",
   "execution_count": 15,
   "metadata": {},
   "outputs": [],
   "source": [
    "#Counting grammer\n",
    "mbti_post['char_count'] = mbti_post['clean_post'].apply(len)\n",
    "mbti_post['qm'] = mbti_post['clean_post'].apply(lambda s : s.count('?'))\n",
    "mbti_post['em'] = mbti_post['clean_post'].apply(lambda s : s.count('!'))\n",
    "mbti_post['colons'] = mbti_post['clean_post'].apply(colons)\n",
    "mbti_post['emojis'] = mbti_post['clean_post'].apply(emojis)"
   ]
  },
  {
   "cell_type": "code",
   "execution_count": 16,
   "metadata": {},
   "outputs": [],
   "source": [
    "#Splitting out the different personality elements\n",
    "mbti_post['extroverted'] = mbti_post['type'].apply(lambda s : 1 if s[0] == 'E' else 0)\n",
    "mbti_post['sensor'] = mbti_post['type'].apply(lambda s : 1 if s[1] == 'S' else 0)\n",
    "mbti_post['thinker'] = mbti_post['type'].apply(lambda s : 1 if s[2] == 'T' else 0)\n",
    "mbti_post['judger'] = mbti_post['type'].apply(lambda s : 1 if s[3] == 'J' else 0)"
   ]
  },
  {
   "cell_type": "code",
   "execution_count": 17,
   "metadata": {},
   "outputs": [
    {
     "data": {
      "text/html": [
       "<div>\n",
       "<style scoped>\n",
       "    .dataframe tbody tr th:only-of-type {\n",
       "        vertical-align: middle;\n",
       "    }\n",
       "\n",
       "    .dataframe tbody tr th {\n",
       "        vertical-align: top;\n",
       "    }\n",
       "\n",
       "    .dataframe thead th {\n",
       "        text-align: right;\n",
       "    }\n",
       "</style>\n",
       "<table border=\"1\" class=\"dataframe\">\n",
       "  <thead>\n",
       "    <tr style=\"text-align: right;\">\n",
       "      <th></th>\n",
       "      <th>id</th>\n",
       "      <th>type</th>\n",
       "      <th>post</th>\n",
       "      <th>clean_post</th>\n",
       "      <th>unique_words</th>\n",
       "      <th>word_count</th>\n",
       "      <th>link_count</th>\n",
       "      <th>youtube_link</th>\n",
       "      <th>char_count</th>\n",
       "      <th>qm</th>\n",
       "      <th>em</th>\n",
       "      <th>colons</th>\n",
       "      <th>emojis</th>\n",
       "      <th>extroverted</th>\n",
       "      <th>sensor</th>\n",
       "      <th>thinker</th>\n",
       "      <th>judger</th>\n",
       "    </tr>\n",
       "  </thead>\n",
       "  <tbody>\n",
       "    <tr>\n",
       "      <th>0</th>\n",
       "      <td>0</td>\n",
       "      <td>INFJ</td>\n",
       "      <td>'http://www.youtube.com/watch?v=qsXHcwe3krw</td>\n",
       "      <td>'youtube</td>\n",
       "      <td>1</td>\n",
       "      <td>1</td>\n",
       "      <td>1</td>\n",
       "      <td>1</td>\n",
       "      <td>8</td>\n",
       "      <td>0</td>\n",
       "      <td>0</td>\n",
       "      <td>0</td>\n",
       "      <td>0</td>\n",
       "      <td>0</td>\n",
       "      <td>0</td>\n",
       "      <td>0</td>\n",
       "      <td>1</td>\n",
       "    </tr>\n",
       "    <tr>\n",
       "      <th>1</th>\n",
       "      <td>0</td>\n",
       "      <td>INFJ</td>\n",
       "      <td>http://41.media.tumblr.com/tumblr_lfouy03PMA1q...</td>\n",
       "      <td>1</td>\n",
       "      <td>1</td>\n",
       "      <td>1</td>\n",
       "      <td>1</td>\n",
       "      <td>0</td>\n",
       "      <td>1</td>\n",
       "      <td>0</td>\n",
       "      <td>0</td>\n",
       "      <td>0</td>\n",
       "      <td>0</td>\n",
       "      <td>0</td>\n",
       "      <td>0</td>\n",
       "      <td>0</td>\n",
       "      <td>1</td>\n",
       "    </tr>\n",
       "    <tr>\n",
       "      <th>2</th>\n",
       "      <td>0</td>\n",
       "      <td>INFJ</td>\n",
       "      <td>enfp and intj moments  https://www.youtube.com...</td>\n",
       "      <td>enfp and intj moments  youtube</td>\n",
       "      <td>6</td>\n",
       "      <td>6</td>\n",
       "      <td>2</td>\n",
       "      <td>2</td>\n",
       "      <td>30</td>\n",
       "      <td>0</td>\n",
       "      <td>0</td>\n",
       "      <td>0</td>\n",
       "      <td>0</td>\n",
       "      <td>0</td>\n",
       "      <td>0</td>\n",
       "      <td>0</td>\n",
       "      <td>1</td>\n",
       "    </tr>\n",
       "    <tr>\n",
       "      <th>3</th>\n",
       "      <td>0</td>\n",
       "      <td>INFJ</td>\n",
       "      <td>What has been the most life-changing experienc...</td>\n",
       "      <td>What has been the most life-changing experienc...</td>\n",
       "      <td>10</td>\n",
       "      <td>10</td>\n",
       "      <td>0</td>\n",
       "      <td>0</td>\n",
       "      <td>61</td>\n",
       "      <td>1</td>\n",
       "      <td>0</td>\n",
       "      <td>0</td>\n",
       "      <td>0</td>\n",
       "      <td>0</td>\n",
       "      <td>0</td>\n",
       "      <td>0</td>\n",
       "      <td>1</td>\n",
       "    </tr>\n",
       "    <tr>\n",
       "      <th>4</th>\n",
       "      <td>0</td>\n",
       "      <td>INFJ</td>\n",
       "      <td>http://www.youtube.com/watch?v=vXZeYwwRDw8   h...</td>\n",
       "      <td>youtube</td>\n",
       "      <td>1</td>\n",
       "      <td>1</td>\n",
       "      <td>2</td>\n",
       "      <td>2</td>\n",
       "      <td>7</td>\n",
       "      <td>0</td>\n",
       "      <td>0</td>\n",
       "      <td>0</td>\n",
       "      <td>0</td>\n",
       "      <td>0</td>\n",
       "      <td>0</td>\n",
       "      <td>0</td>\n",
       "      <td>1</td>\n",
       "    </tr>\n",
       "  </tbody>\n",
       "</table>\n",
       "</div>"
      ],
      "text/plain": [
       "   id  type                                               post  \\\n",
       "0   0  INFJ        'http://www.youtube.com/watch?v=qsXHcwe3krw   \n",
       "1   0  INFJ  http://41.media.tumblr.com/tumblr_lfouy03PMA1q...   \n",
       "2   0  INFJ  enfp and intj moments  https://www.youtube.com...   \n",
       "3   0  INFJ  What has been the most life-changing experienc...   \n",
       "4   0  INFJ  http://www.youtube.com/watch?v=vXZeYwwRDw8   h...   \n",
       "\n",
       "                                          clean_post  unique_words  \\\n",
       "0                                           'youtube             1   \n",
       "1                                                  1             1   \n",
       "2                     enfp and intj moments  youtube             6   \n",
       "3  What has been the most life-changing experienc...            10   \n",
       "4                                            youtube             1   \n",
       "\n",
       "   word_count  link_count  youtube_link  char_count  qm  em  colons  emojis  \\\n",
       "0           1           1             1           8   0   0       0       0   \n",
       "1           1           1             0           1   0   0       0       0   \n",
       "2           6           2             2          30   0   0       0       0   \n",
       "3          10           0             0          61   1   0       0       0   \n",
       "4           1           2             2           7   0   0       0       0   \n",
       "\n",
       "   extroverted  sensor  thinker  judger  \n",
       "0            0       0        0       1  \n",
       "1            0       0        0       1  \n",
       "2            0       0        0       1  \n",
       "3            0       0        0       1  \n",
       "4            0       0        0       1  "
      ]
     },
     "execution_count": 17,
     "metadata": {},
     "output_type": "execute_result"
    }
   ],
   "source": [
    "mbti_post.head()"
   ]
  },
  {
   "cell_type": "markdown",
   "metadata": {},
   "source": [
    "## Analysis"
   ]
  },
  {
   "cell_type": "code",
   "execution_count": 18,
   "metadata": {},
   "outputs": [
    {
     "data": {
      "image/png": "[encoded data removed]",
      "text/plain": [
       "<Figure size 720x504 with 1 Axes>"
      ]
     },
     "metadata": {
      "needs_background": "light"
     },
     "output_type": "display_data"
    }
   ],
   "source": [
    "mb = mbti_post.groupby('type').agg({'type':'count'}).rename(columns={'type':'count'}).sort_values('count',ascending=False)\n",
    "plt.figure(figsize=(10,7))\n",
    "plt.bar(mb.index, mb['count'])\n",
    "plt.savefig(os.path.join(img_path,\"type_hist.png\"))"
   ]
  },
  {
   "cell_type": "code",
   "execution_count": 39,
   "metadata": {},
   "outputs": [
    {
     "data": {
      "text/html": [
       "<div>\n",
       "<style scoped>\n",
       "    .dataframe tbody tr th:only-of-type {\n",
       "        vertical-align: middle;\n",
       "    }\n",
       "\n",
       "    .dataframe tbody tr th {\n",
       "        vertical-align: top;\n",
       "    }\n",
       "\n",
       "    .dataframe thead th {\n",
       "        text-align: right;\n",
       "    }\n",
       "</style>\n",
       "<table border=\"1\" class=\"dataframe\">\n",
       "  <thead>\n",
       "    <tr style=\"text-align: right;\">\n",
       "      <th></th>\n",
       "      <th>id</th>\n",
       "      <th>unique_words</th>\n",
       "      <th>word_count</th>\n",
       "      <th>link_count</th>\n",
       "      <th>youtube_link</th>\n",
       "      <th>char_count</th>\n",
       "      <th>qm</th>\n",
       "      <th>em</th>\n",
       "      <th>colons</th>\n",
       "      <th>emojis</th>\n",
       "      <th>extroverted</th>\n",
       "      <th>sensor</th>\n",
       "      <th>thinker</th>\n",
       "      <th>judger</th>\n",
       "    </tr>\n",
       "  </thead>\n",
       "  <tbody>\n",
       "    <tr>\n",
       "      <th>count</th>\n",
       "      <td>422845.000000</td>\n",
       "      <td>422845.000000</td>\n",
       "      <td>422845.000000</td>\n",
       "      <td>422845.000000</td>\n",
       "      <td>422845.000000</td>\n",
       "      <td>422845.000000</td>\n",
       "      <td>422845.000000</td>\n",
       "      <td>422845.000000</td>\n",
       "      <td>422845.000000</td>\n",
       "      <td>422845.000000</td>\n",
       "      <td>422845.000000</td>\n",
       "      <td>422845.00000</td>\n",
       "      <td>422845.000000</td>\n",
       "      <td>422845.000000</td>\n",
       "    </tr>\n",
       "    <tr>\n",
       "      <th>mean</th>\n",
       "      <td>4340.423529</td>\n",
       "      <td>23.524840</td>\n",
       "      <td>26.655375</td>\n",
       "      <td>0.067793</td>\n",
       "      <td>0.043541</td>\n",
       "      <td>141.173674</td>\n",
       "      <td>0.177495</td>\n",
       "      <td>0.171183</td>\n",
       "      <td>0.251350</td>\n",
       "      <td>0.045828</td>\n",
       "      <td>0.230775</td>\n",
       "      <td>0.13722</td>\n",
       "      <td>0.457693</td>\n",
       "      <td>0.395204</td>\n",
       "    </tr>\n",
       "    <tr>\n",
       "      <th>std</th>\n",
       "      <td>2506.825488</td>\n",
       "      <td>11.550685</td>\n",
       "      <td>13.619516</td>\n",
       "      <td>0.290861</td>\n",
       "      <td>0.235632</td>\n",
       "      <td>70.705885</td>\n",
       "      <td>0.567216</td>\n",
       "      <td>0.767402</td>\n",
       "      <td>0.773206</td>\n",
       "      <td>0.234296</td>\n",
       "      <td>0.421329</td>\n",
       "      <td>0.34408</td>\n",
       "      <td>0.498207</td>\n",
       "      <td>0.488895</td>\n",
       "    </tr>\n",
       "    <tr>\n",
       "      <th>min</th>\n",
       "      <td>0.000000</td>\n",
       "      <td>1.000000</td>\n",
       "      <td>1.000000</td>\n",
       "      <td>0.000000</td>\n",
       "      <td>0.000000</td>\n",
       "      <td>0.000000</td>\n",
       "      <td>0.000000</td>\n",
       "      <td>0.000000</td>\n",
       "      <td>0.000000</td>\n",
       "      <td>0.000000</td>\n",
       "      <td>0.000000</td>\n",
       "      <td>0.00000</td>\n",
       "      <td>0.000000</td>\n",
       "      <td>0.000000</td>\n",
       "    </tr>\n",
       "    <tr>\n",
       "      <th>25%</th>\n",
       "      <td>2165.000000</td>\n",
       "      <td>13.000000</td>\n",
       "      <td>14.000000</td>\n",
       "      <td>0.000000</td>\n",
       "      <td>0.000000</td>\n",
       "      <td>75.000000</td>\n",
       "      <td>0.000000</td>\n",
       "      <td>0.000000</td>\n",
       "      <td>0.000000</td>\n",
       "      <td>0.000000</td>\n",
       "      <td>0.000000</td>\n",
       "      <td>0.00000</td>\n",
       "      <td>0.000000</td>\n",
       "      <td>0.000000</td>\n",
       "    </tr>\n",
       "    <tr>\n",
       "      <th>50%</th>\n",
       "      <td>4345.000000</td>\n",
       "      <td>29.000000</td>\n",
       "      <td>33.000000</td>\n",
       "      <td>0.000000</td>\n",
       "      <td>0.000000</td>\n",
       "      <td>192.000000</td>\n",
       "      <td>0.000000</td>\n",
       "      <td>0.000000</td>\n",
       "      <td>0.000000</td>\n",
       "      <td>0.000000</td>\n",
       "      <td>0.000000</td>\n",
       "      <td>0.00000</td>\n",
       "      <td>0.000000</td>\n",
       "      <td>0.000000</td>\n",
       "    </tr>\n",
       "    <tr>\n",
       "      <th>75%</th>\n",
       "      <td>6515.000000</td>\n",
       "      <td>33.000000</td>\n",
       "      <td>38.000000</td>\n",
       "      <td>0.000000</td>\n",
       "      <td>0.000000</td>\n",
       "      <td>199.000000</td>\n",
       "      <td>0.000000</td>\n",
       "      <td>0.000000</td>\n",
       "      <td>0.000000</td>\n",
       "      <td>0.000000</td>\n",
       "      <td>0.000000</td>\n",
       "      <td>0.00000</td>\n",
       "      <td>1.000000</td>\n",
       "      <td>1.000000</td>\n",
       "    </tr>\n",
       "    <tr>\n",
       "      <th>max</th>\n",
       "      <td>8674.000000</td>\n",
       "      <td>44.000000</td>\n",
       "      <td>176.000000</td>\n",
       "      <td>6.000000</td>\n",
       "      <td>6.000000</td>\n",
       "      <td>263.000000</td>\n",
       "      <td>115.000000</td>\n",
       "      <td>148.000000</td>\n",
       "      <td>57.000000</td>\n",
       "      <td>27.000000</td>\n",
       "      <td>1.000000</td>\n",
       "      <td>1.00000</td>\n",
       "      <td>1.000000</td>\n",
       "      <td>1.000000</td>\n",
       "    </tr>\n",
       "  </tbody>\n",
       "</table>\n",
       "</div>"
      ],
      "text/plain": [
       "                  id   unique_words     word_count     link_count  \\\n",
       "count  422845.000000  422845.000000  422845.000000  422845.000000   \n",
       "mean     4340.423529      23.524840      26.655375       0.067793   \n",
       "std      2506.825488      11.550685      13.619516       0.290861   \n",
       "min         0.000000       1.000000       1.000000       0.000000   \n",
       "25%      2165.000000      13.000000      14.000000       0.000000   \n",
       "50%      4345.000000      29.000000      33.000000       0.000000   \n",
       "75%      6515.000000      33.000000      38.000000       0.000000   \n",
       "max      8674.000000      44.000000     176.000000       6.000000   \n",
       "\n",
       "        youtube_link     char_count             qm             em  \\\n",
       "count  422845.000000  422845.000000  422845.000000  422845.000000   \n",
       "mean        0.043541     141.173674       0.177495       0.171183   \n",
       "std         0.235632      70.705885       0.567216       0.767402   \n",
       "min         0.000000       0.000000       0.000000       0.000000   \n",
       "25%         0.000000      75.000000       0.000000       0.000000   \n",
       "50%         0.000000     192.000000       0.000000       0.000000   \n",
       "75%         0.000000     199.000000       0.000000       0.000000   \n",
       "max         6.000000     263.000000     115.000000     148.000000   \n",
       "\n",
       "              colons         emojis    extroverted        sensor  \\\n",
       "count  422845.000000  422845.000000  422845.000000  422845.00000   \n",
       "mean        0.251350       0.045828       0.230775       0.13722   \n",
       "std         0.773206       0.234296       0.421329       0.34408   \n",
       "min         0.000000       0.000000       0.000000       0.00000   \n",
       "25%         0.000000       0.000000       0.000000       0.00000   \n",
       "50%         0.000000       0.000000       0.000000       0.00000   \n",
       "75%         0.000000       0.000000       0.000000       0.00000   \n",
       "max        57.000000      27.000000       1.000000       1.00000   \n",
       "\n",
       "             thinker         judger  \n",
       "count  422845.000000  422845.000000  \n",
       "mean        0.457693       0.395204  \n",
       "std         0.498207       0.488895  \n",
       "min         0.000000       0.000000  \n",
       "25%         0.000000       0.000000  \n",
       "50%         0.000000       0.000000  \n",
       "75%         1.000000       1.000000  \n",
       "max         1.000000       1.000000  "
      ]
     },
     "execution_count": 39,
     "metadata": {},
     "output_type": "execute_result"
    }
   ],
   "source": [
    "mbti_post.describe()"
   ]
  },
  {
   "cell_type": "code",
   "execution_count": 19,
   "metadata": {},
   "outputs": [
    {
     "data": {
      "text/plain": [
       "23784"
      ]
     },
     "execution_count": 19,
     "metadata": {},
     "output_type": "execute_result"
    }
   ],
   "source": [
    "len(mbti_post[mbti_post['word_count']<=1])"
   ]
  },
  {
   "cell_type": "code",
   "execution_count": 37,
   "metadata": {},
   "outputs": [
    {
     "data": {
      "text/plain": [
       "<BarContainer object of 16 artists>"
      ]
     },
     "execution_count": 37,
     "metadata": {},
     "output_type": "execute_result"
    },
    {
     "data": {
      "image/png": "[encoded data removed]",
      "text/plain": [
       "<Figure size 720x504 with 1 Axes>"
      ]
     },
     "metadata": {
      "needs_background": "light"
     },
     "output_type": "display_data"
    }
   ],
   "source": [
    "avg_words_type = mbti_post.groupby('type').agg({'word_count':'mean'})\n",
    "plt.figure(figsize=(10,7))\n",
    "plt.bar(avg_words_type.index,avg_words_type['word_count'])"
   ]
  },
  {
   "cell_type": "code",
   "execution_count": 35,
   "metadata": {},
   "outputs": [
    {
     "data": {
      "image/png": "[encoded data removed]",
      "text/plain": [
       "<Figure size 432x288 with 1 Axes>"
      ]
     },
     "metadata": {
      "needs_background": "light"
     },
     "output_type": "display_data"
    }
   ],
   "source": [
    "mbti_post['word_count'].hist(bins=20)\n",
    "plt.savefig(os.path.join(img_path,\"word_hist.png\"))"
   ]
  },
  {
   "cell_type": "code",
   "execution_count": 34,
   "metadata": {},
   "outputs": [
    {
     "data": {
      "image/png": "[encoded data removed]",
      "text/plain": [
       "<Figure size 432x288 with 1 Axes>"
      ]
     },
     "metadata": {
      "needs_background": "light"
     },
     "output_type": "display_data"
    }
   ],
   "source": [
    "mbti_post['char_count'].hist(bins=20)\n",
    "plt.savefig(os.path.join(img_path,\"character_hist.png\"))"
   ]
  },
  {
   "cell_type": "code",
   "execution_count": 22,
   "metadata": {},
   "outputs": [
    {
     "data": {
      "image/png": "[encoded data removed]",
      "text/plain": [
       "<Figure size 432x288 with 1 Axes>"
      ]
     },
     "metadata": {
      "needs_background": "light"
     },
     "output_type": "display_data"
    }
   ],
   "source": [
    "mbti_post['link_count'].hist(bins=12)\n",
    "plt.savefig(os.path.join(img_path,\"link_hist.png\"))"
   ]
  },
  {
   "cell_type": "code",
   "execution_count": 23,
   "metadata": {},
   "outputs": [
    {
     "data": {
      "text/plain": [
       "3151"
      ]
     },
     "execution_count": 23,
     "metadata": {},
     "output_type": "execute_result"
    }
   ],
   "source": [
    "unique_domains = {}\n",
    "for post in mbti_post['post']:\n",
    "    if 'http' in post:\n",
    "        for s in post.split():\n",
    "            if 'http' in s:\n",
    "                s1 = s.split('.com')[0].split('//')[-1]\n",
    "                s2 = s1[s1.rfind('.')+1:]\n",
    "                if s2 not in unique_domains:\n",
    "                    unique_domains[s2] = 1\n",
    "                else:\n",
    "                    unique_domains[s2] += 1\n",
    "domains = pd.DataFrame(unique_domains.items(), columns=['domain', 'count']).sort_values('count', ascending=False)\n",
    "len(domains)"
   ]
  },
  {
   "cell_type": "code",
   "execution_count": 24,
   "metadata": {},
   "outputs": [
    {
     "data": {
      "text/html": [
       "<div>\n",
       "<style scoped>\n",
       "    .dataframe tbody tr th:only-of-type {\n",
       "        vertical-align: middle;\n",
       "    }\n",
       "\n",
       "    .dataframe tbody tr th {\n",
       "        vertical-align: top;\n",
       "    }\n",
       "\n",
       "    .dataframe thead th {\n",
       "        text-align: right;\n",
       "    }\n",
       "</style>\n",
       "<table border=\"1\" class=\"dataframe\">\n",
       "  <thead>\n",
       "    <tr style=\"text-align: right;\">\n",
       "      <th></th>\n",
       "      <th>domain</th>\n",
       "      <th>count</th>\n",
       "    </tr>\n",
       "  </thead>\n",
       "  <tbody>\n",
       "    <tr>\n",
       "      <th>0</th>\n",
       "      <td>youtube</td>\n",
       "      <td>16708</td>\n",
       "    </tr>\n",
       "    <tr>\n",
       "      <th>8</th>\n",
       "      <td>jpg</td>\n",
       "      <td>1246</td>\n",
       "    </tr>\n",
       "    <tr>\n",
       "      <th>21</th>\n",
       "      <td>imgur</td>\n",
       "      <td>962</td>\n",
       "    </tr>\n",
       "    <tr>\n",
       "      <th>1</th>\n",
       "      <td>tumblr</td>\n",
       "      <td>875</td>\n",
       "    </tr>\n",
       "    <tr>\n",
       "      <th>22</th>\n",
       "      <td>personalitycafe</td>\n",
       "      <td>687</td>\n",
       "    </tr>\n",
       "    <tr>\n",
       "      <th>10</th>\n",
       "      <td>photobucket</td>\n",
       "      <td>667</td>\n",
       "    </tr>\n",
       "    <tr>\n",
       "      <th>66</th>\n",
       "      <td>tinypic</td>\n",
       "      <td>435</td>\n",
       "    </tr>\n",
       "    <tr>\n",
       "      <th>20</th>\n",
       "      <td>giphy</td>\n",
       "      <td>277</td>\n",
       "    </tr>\n",
       "    <tr>\n",
       "      <th>35</th>\n",
       "      <td>wordpress</td>\n",
       "      <td>244</td>\n",
       "    </tr>\n",
       "    <tr>\n",
       "      <th>15</th>\n",
       "      <td>blogspot</td>\n",
       "      <td>214</td>\n",
       "    </tr>\n",
       "  </tbody>\n",
       "</table>\n",
       "</div>"
      ],
      "text/plain": [
       "             domain  count\n",
       "0           youtube  16708\n",
       "8               jpg   1246\n",
       "21            imgur    962\n",
       "1            tumblr    875\n",
       "22  personalitycafe    687\n",
       "10      photobucket    667\n",
       "66          tinypic    435\n",
       "20            giphy    277\n",
       "35        wordpress    244\n",
       "15         blogspot    214"
      ]
     },
     "execution_count": 24,
     "metadata": {},
     "output_type": "execute_result"
    }
   ],
   "source": [
    "domains.head(10)"
   ]
  },
  {
   "cell_type": "markdown",
   "metadata": {},
   "source": [
    "## Exporting final dataset to csv"
   ]
  },
  {
   "cell_type": "code",
   "execution_count": 25,
   "metadata": {},
   "outputs": [],
   "source": [
    "mbti_post.to_csv(os.path.join(data_path,'mbti_phase1.csv'))"
   ]
  }
 ],
 "metadata": {
  "kernelspec": {
   "display_name": "mbti",
   "language": "python",
   "name": "python3"
  },
  "language_info": {
   "codemirror_mode": {
    "name": "ipython",
    "version": 3
   },
   "file_extension": ".py",
   "mimetype": "text/x-python",
   "name": "python",
   "nbconvert_exporter": "python",
   "pygments_lexer": "ipython3",
   "version": "3.7.1"
  }
 },
 "nbformat": 4,
 "nbformat_minor": 4
}
