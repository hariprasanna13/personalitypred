{
 "cells": [
  {
   "cell_type": "markdown",
   "metadata": {},
   "source": [
    "# (MBTI) Myers-Briggs Personality Type Prediction\n",
    "\n",
    "The Myers Briggs Type Indicator (or MBTI for short) is a personality type system that divides everyone into 16 distinct personality types across 4 axis:\n",
    "\n",
    "* Introversion (I) – Extroversion (E)\n",
    "* Intuition (N) – Sensing (S)\n",
    "* Thinking (T) – Feeling (F)\n",
    "* Judging (J) – Perceiving (P)\n",
    "\n",
    "\n",
    "So for example, someone who prefers introversion, intuition, thinking and perceiving would be labelled an INTP in the MBTI system, and there are lots of personality based components that would model or describe this person’s preferences or behaviour based on the label.\n",
    "\n",
    "It is one of, if not the, the most popular personality test in the world. It is used in businesses, online, for fun, for research and lots more. A simple google search reveals all of the different ways the test has been used over time. It’s safe to say that this test is still very relevant in the world in terms of its use.\n",
    "\n",
    "From scientific or psychological perspective it is based on the work done on cognitive functions by Carl Jung i.e. Jungian Typology. This was a model of 8 distinct functions, thought processes or ways of thinking that were suggested to be present in the mind. Later this work was transformed into several different personality systems to make it more accessible, the most popular of which is of course the MBTI.\n",
    "\n",
    "Recently, its use/validity has come into question because of unreliability in experiments surrounding it, among other reasons. But it is still clung to as being a very useful tool in a lot of areas, and the purpose of this dataset is to help see if any patterns can be detected in specific types and their style of writing, which overall explores the validity of the test in analysing, predicting or categorising behaviour.\n",
    "\n",
    "Content:<br>\n",
    "This dataset contains over 8600 rows of data, on each row is a person’s:\n",
    "* Type (This persons 4 letter MBTI code/type)\n",
    "* A section of each of the last 50 things they have posted (Each entry separated by \"|||\" (3 pipe characters))"
   ]
  },
  {
   "cell_type": "markdown",
   "metadata": {},
   "source": [
    "## DATA CLEANING & LEMMITIZING"
   ]
  },
  {
   "cell_type": "code",
   "execution_count": 1,
   "metadata": {},
   "outputs": [
    {
     "name": "stderr",
     "output_type": "stream",
     "text": [
      "[nltk_data] Downloading package stopwords to\n",
      "[nltk_data]     C:\\Users\\eshom\\AppData\\Roaming\\nltk_data...\n",
      "[nltk_data]   Package stopwords is already up-to-date!\n"
     ]
    },
    {
     "data": {
      "application/javascript": [
       "\n",
       "            setTimeout(function() {\n",
       "                var nbb_cell_id = 1;\n",
       "                var nbb_unformatted_code = \"# importing dependencies here\\nimport numpy as np\\nimport pandas as pd\\n\\n# for splitting data into training and holdout dataset\\nfrom sklearn.model_selection import train_test_split\\n\\n# visualizations\\nimport seaborn as sns\\nimport matplotlib.pyplot as plt\\n\\n# cleaning and dropping stop words\\nimport re\\nimport nltk\\nfrom nltk.corpus import stopwords\\n\\nnltk.download(\\\"stopwords\\\")\\n\\n# lemmitizing\\nfrom nltk.stem import WordNetLemmatizer\\n\\n# performance check\\nimport time\\n\\n# code formatter\\n%load_ext nb_black\";\n",
       "                var nbb_formatted_code = \"# importing dependencies here\\nimport numpy as np\\nimport pandas as pd\\n\\n# for splitting data into training and holdout dataset\\nfrom sklearn.model_selection import train_test_split\\n\\n# visualizations\\nimport seaborn as sns\\nimport matplotlib.pyplot as plt\\n\\n# cleaning and dropping stop words\\nimport re\\nimport nltk\\nfrom nltk.corpus import stopwords\\n\\nnltk.download(\\\"stopwords\\\")\\n\\n# lemmitizing\\nfrom nltk.stem import WordNetLemmatizer\\n\\n# performance check\\nimport time\\n\\n# code formatter\\n%load_ext nb_black\";\n",
       "                var nbb_cells = Jupyter.notebook.get_cells();\n",
       "                for (var i = 0; i < nbb_cells.length; ++i) {\n",
       "                    if (nbb_cells[i].input_prompt_number == nbb_cell_id) {\n",
       "                        if (nbb_cells[i].get_text() == nbb_unformatted_code) {\n",
       "                             nbb_cells[i].set_text(nbb_formatted_code);\n",
       "                        }\n",
       "                        break;\n",
       "                    }\n",
       "                }\n",
       "            }, 500);\n",
       "            "
      ],
      "text/plain": [
       "<IPython.core.display.Javascript object>"
      ]
     },
     "metadata": {},
     "output_type": "display_data"
    }
   ],
   "source": [
    "# importing dependencies here\n",
    "import numpy as np\n",
    "import pandas as pd\n",
    "\n",
    "# for splitting data into training and holdout dataset\n",
    "from sklearn.model_selection import train_test_split\n",
    "\n",
    "# visualizations\n",
    "import seaborn as sns\n",
    "import matplotlib.pyplot as plt\n",
    "\n",
    "# cleaning and dropping stop words\n",
    "import re\n",
    "import nltk\n",
    "from nltk.corpus import stopwords\n",
    "\n",
    "nltk.download(\"stopwords\")\n",
    "\n",
    "# lemmitizing\n",
    "from nltk.stem import WordNetLemmatizer\n",
    "\n",
    "# performance check\n",
    "import time\n",
    "\n",
    "# code formatter\n",
    "%load_ext nb_black"
   ]
  },
  {
   "cell_type": "code",
   "execution_count": 2,
   "metadata": {},
   "outputs": [
    {
     "name": "stdout",
     "output_type": "stream",
     "text": [
      "INFP    1814\n",
      "INFJ    1455\n",
      "INTP    1291\n",
      "INTJ    1080\n",
      "ENTP     678\n",
      "ENFP     668\n",
      "ISTP     334\n",
      "ISFP     268\n",
      "ENTJ     229\n",
      "ISTJ     203\n",
      "ENFJ     188\n",
      "ISFJ     164\n",
      "ESTP      88\n",
      "ESFP      47\n",
      "ESFJ      42\n",
      "ESTJ      39\n",
      "Name: type, dtype: int64\n",
      "INFP    18\n",
      "INFJ    15\n",
      "INTP    13\n",
      "INTJ    11\n",
      "ENFP     7\n",
      "ENTP     7\n",
      "ISTP     3\n",
      "ISFP     3\n",
      "ISFJ     2\n",
      "ENTJ     2\n",
      "ISTJ     2\n",
      "ENFJ     2\n",
      "ESFP     1\n",
      "ESTP     1\n",
      "Name: type, dtype: int64\n"
     ]
    },
    {
     "data": {
      "application/javascript": [
       "\n",
       "            setTimeout(function() {\n",
       "                var nbb_cell_id = 2;\n",
       "                var nbb_unformatted_code = \"# reading the dataset\\ndf = pd.read_csv(\\\"../data/mbti_1.csv\\\")\\n\\n# splitting data into training and holdout dataset\\npersonality_data, df_holdout = train_test_split(\\n    df, random_state=42, test_size=0.01, stratify=df[\\\"type\\\"]\\n)\\n\\n# saving the training and holdout datasets\\npersonality_data.to_csv(\\\"data_ekta/personality_data.csv\\\", index=False)\\ndf_holdout.to_csv(\\\"data_ekta/df_holdout.csv\\\", index=False)\\n\\n# checking the value counts to make sure data is stratified\\nprint(personality_data[\\\"type\\\"].value_counts())\\nprint(df_holdout[\\\"type\\\"].value_counts())\";\n",
       "                var nbb_formatted_code = \"# reading the dataset\\ndf = pd.read_csv(\\\"../data/mbti_1.csv\\\")\\n\\n# splitting data into training and holdout dataset\\npersonality_data, df_holdout = train_test_split(\\n    df, random_state=42, test_size=0.01, stratify=df[\\\"type\\\"]\\n)\\n\\n# saving the training and holdout datasets\\npersonality_data.to_csv(\\\"data_ekta/personality_data.csv\\\", index=False)\\ndf_holdout.to_csv(\\\"data_ekta/df_holdout.csv\\\", index=False)\\n\\n# checking the value counts to make sure data is stratified\\nprint(personality_data[\\\"type\\\"].value_counts())\\nprint(df_holdout[\\\"type\\\"].value_counts())\";\n",
       "                var nbb_cells = Jupyter.notebook.get_cells();\n",
       "                for (var i = 0; i < nbb_cells.length; ++i) {\n",
       "                    if (nbb_cells[i].input_prompt_number == nbb_cell_id) {\n",
       "                        if (nbb_cells[i].get_text() == nbb_unformatted_code) {\n",
       "                             nbb_cells[i].set_text(nbb_formatted_code);\n",
       "                        }\n",
       "                        break;\n",
       "                    }\n",
       "                }\n",
       "            }, 500);\n",
       "            "
      ],
      "text/plain": [
       "<IPython.core.display.Javascript object>"
      ]
     },
     "metadata": {},
     "output_type": "display_data"
    }
   ],
   "source": [
    "# reading the dataset\n",
    "df = pd.read_csv(\"../data/mbti_1.csv\")\n",
    "\n",
    "# splitting data into training and holdout dataset\n",
    "personality_data, df_holdout = train_test_split(\n",
    "    df, random_state=42, test_size=0.01, stratify=df[\"type\"]\n",
    ")\n",
    "\n",
    "# saving the training and holdout datasets\n",
    "personality_data.to_csv(\"data_ekta/personality_data.csv\", index=False)\n",
    "df_holdout.to_csv(\"data_ekta/df_holdout.csv\", index=False)\n",
    "\n",
    "# checking the value counts to make sure data is stratified\n",
    "print(personality_data[\"type\"].value_counts())\n",
    "print(df_holdout[\"type\"].value_counts())"
   ]
  },
  {
   "cell_type": "code",
   "execution_count": 3,
   "metadata": {},
   "outputs": [
    {
     "data": {
      "application/javascript": [
       "\n",
       "            setTimeout(function() {\n",
       "                var nbb_cell_id = 3;\n",
       "                var nbb_unformatted_code = \"# reading the dataset that will be used for training and testing the model\\npersonality_data = pd.read_csv(\\\"data_ekta/personality_data.csv\\\")\";\n",
       "                var nbb_formatted_code = \"# reading the dataset that will be used for training and testing the model\\npersonality_data = pd.read_csv(\\\"data_ekta/personality_data.csv\\\")\";\n",
       "                var nbb_cells = Jupyter.notebook.get_cells();\n",
       "                for (var i = 0; i < nbb_cells.length; ++i) {\n",
       "                    if (nbb_cells[i].input_prompt_number == nbb_cell_id) {\n",
       "                        if (nbb_cells[i].get_text() == nbb_unformatted_code) {\n",
       "                             nbb_cells[i].set_text(nbb_formatted_code);\n",
       "                        }\n",
       "                        break;\n",
       "                    }\n",
       "                }\n",
       "            }, 500);\n",
       "            "
      ],
      "text/plain": [
       "<IPython.core.display.Javascript object>"
      ]
     },
     "metadata": {},
     "output_type": "display_data"
    }
   ],
   "source": [
    "# reading the dataset that will be used for training and testing the model\n",
    "personality_data = pd.read_csv(\"data_ekta/personality_data.csv\")"
   ]
  },
  {
   "cell_type": "code",
   "execution_count": 4,
   "metadata": {},
   "outputs": [
    {
     "data": {
      "text/html": [
       "<div>\n",
       "<style scoped>\n",
       "    .dataframe tbody tr th:only-of-type {\n",
       "        vertical-align: middle;\n",
       "    }\n",
       "\n",
       "    .dataframe tbody tr th {\n",
       "        vertical-align: top;\n",
       "    }\n",
       "\n",
       "    .dataframe thead th {\n",
       "        text-align: right;\n",
       "    }\n",
       "</style>\n",
       "<table border=\"1\" class=\"dataframe\">\n",
       "  <thead>\n",
       "    <tr style=\"text-align: right;\">\n",
       "      <th></th>\n",
       "      <th>type</th>\n",
       "      <th>posts</th>\n",
       "    </tr>\n",
       "  </thead>\n",
       "  <tbody>\n",
       "    <tr>\n",
       "      <th>0</th>\n",
       "      <td>INFJ</td>\n",
       "      <td>'When asked of the things you wish you did ear...</td>\n",
       "    </tr>\n",
       "    <tr>\n",
       "      <th>1</th>\n",
       "      <td>INFJ</td>\n",
       "      <td>'I love both and they are equally important to...</td>\n",
       "    </tr>\n",
       "    <tr>\n",
       "      <th>2</th>\n",
       "      <td>INFJ</td>\n",
       "      <td>Really? You think implying that everyone who i...</td>\n",
       "    </tr>\n",
       "    <tr>\n",
       "      <th>3</th>\n",
       "      <td>ENFJ</td>\n",
       "      <td>'Love is a crazy thing.   Se is our best form ...</td>\n",
       "    </tr>\n",
       "    <tr>\n",
       "      <th>4</th>\n",
       "      <td>INTP</td>\n",
       "      <td>'I am a physics undergrad with a computation e...</td>\n",
       "    </tr>\n",
       "  </tbody>\n",
       "</table>\n",
       "</div>"
      ],
      "text/plain": [
       "   type                                              posts\n",
       "0  INFJ  'When asked of the things you wish you did ear...\n",
       "1  INFJ  'I love both and they are equally important to...\n",
       "2  INFJ  Really? You think implying that everyone who i...\n",
       "3  ENFJ  'Love is a crazy thing.   Se is our best form ...\n",
       "4  INTP  'I am a physics undergrad with a computation e..."
      ]
     },
     "execution_count": 4,
     "metadata": {},
     "output_type": "execute_result"
    },
    {
     "data": {
      "application/javascript": [
       "\n",
       "            setTimeout(function() {\n",
       "                var nbb_cell_id = 4;\n",
       "                var nbb_unformatted_code = \"# looking at the top 5 rows of the dataset\\npersonality_data.head()\";\n",
       "                var nbb_formatted_code = \"# looking at the top 5 rows of the dataset\\npersonality_data.head()\";\n",
       "                var nbb_cells = Jupyter.notebook.get_cells();\n",
       "                for (var i = 0; i < nbb_cells.length; ++i) {\n",
       "                    if (nbb_cells[i].input_prompt_number == nbb_cell_id) {\n",
       "                        if (nbb_cells[i].get_text() == nbb_unformatted_code) {\n",
       "                             nbb_cells[i].set_text(nbb_formatted_code);\n",
       "                        }\n",
       "                        break;\n",
       "                    }\n",
       "                }\n",
       "            }, 500);\n",
       "            "
      ],
      "text/plain": [
       "<IPython.core.display.Javascript object>"
      ]
     },
     "metadata": {},
     "output_type": "display_data"
    }
   ],
   "source": [
    "# looking at the top 5 rows of the dataset\n",
    "personality_data.head()"
   ]
  },
  {
   "cell_type": "code",
   "execution_count": 5,
   "metadata": {},
   "outputs": [
    {
     "data": {
      "text/plain": [
       "(8588, 2)"
      ]
     },
     "execution_count": 5,
     "metadata": {},
     "output_type": "execute_result"
    },
    {
     "data": {
      "application/javascript": [
       "\n",
       "            setTimeout(function() {\n",
       "                var nbb_cell_id = 5;\n",
       "                var nbb_unformatted_code = \"# checking the number of rows and columns\\npersonality_data.shape\";\n",
       "                var nbb_formatted_code = \"# checking the number of rows and columns\\npersonality_data.shape\";\n",
       "                var nbb_cells = Jupyter.notebook.get_cells();\n",
       "                for (var i = 0; i < nbb_cells.length; ++i) {\n",
       "                    if (nbb_cells[i].input_prompt_number == nbb_cell_id) {\n",
       "                        if (nbb_cells[i].get_text() == nbb_unformatted_code) {\n",
       "                             nbb_cells[i].set_text(nbb_formatted_code);\n",
       "                        }\n",
       "                        break;\n",
       "                    }\n",
       "                }\n",
       "            }, 500);\n",
       "            "
      ],
      "text/plain": [
       "<IPython.core.display.Javascript object>"
      ]
     },
     "metadata": {},
     "output_type": "display_data"
    }
   ],
   "source": [
    "# checking the number of rows and columns\n",
    "personality_data.shape"
   ]
  },
  {
   "cell_type": "markdown",
   "metadata": {},
   "source": [
    "#### Checking for Null values"
   ]
  },
  {
   "cell_type": "code",
   "execution_count": 6,
   "metadata": {},
   "outputs": [
    {
     "data": {
      "text/plain": [
       "type     0\n",
       "posts    0\n",
       "dtype: int64"
      ]
     },
     "execution_count": 6,
     "metadata": {},
     "output_type": "execute_result"
    },
    {
     "data": {
      "application/javascript": [
       "\n",
       "            setTimeout(function() {\n",
       "                var nbb_cell_id = 6;\n",
       "                var nbb_unformatted_code = \"# checking for missing values\\npersonality_data.isnull().sum()\";\n",
       "                var nbb_formatted_code = \"# checking for missing values\\npersonality_data.isnull().sum()\";\n",
       "                var nbb_cells = Jupyter.notebook.get_cells();\n",
       "                for (var i = 0; i < nbb_cells.length; ++i) {\n",
       "                    if (nbb_cells[i].input_prompt_number == nbb_cell_id) {\n",
       "                        if (nbb_cells[i].get_text() == nbb_unformatted_code) {\n",
       "                             nbb_cells[i].set_text(nbb_formatted_code);\n",
       "                        }\n",
       "                        break;\n",
       "                    }\n",
       "                }\n",
       "            }, 500);\n",
       "            "
      ],
      "text/plain": [
       "<IPython.core.display.Javascript object>"
      ]
     },
     "metadata": {},
     "output_type": "display_data"
    }
   ],
   "source": [
    "# checking for missing values\n",
    "personality_data.isnull().sum()"
   ]
  },
  {
   "cell_type": "markdown",
   "metadata": {},
   "source": [
    "Luckily there are no missing values present in this dataset."
   ]
  },
  {
   "cell_type": "markdown",
   "metadata": {},
   "source": [
    "#### Checking for Class Imbalance"
   ]
  },
  {
   "cell_type": "code",
   "execution_count": 7,
   "metadata": {},
   "outputs": [
    {
     "data": {
      "text/plain": [
       "INFP    1814\n",
       "INFJ    1455\n",
       "INTP    1291\n",
       "INTJ    1080\n",
       "ENTP     678\n",
       "ENFP     668\n",
       "ISTP     334\n",
       "ISFP     268\n",
       "ENTJ     229\n",
       "ISTJ     203\n",
       "ENFJ     188\n",
       "ISFJ     164\n",
       "ESTP      88\n",
       "ESFP      47\n",
       "ESFJ      42\n",
       "ESTJ      39\n",
       "Name: type, dtype: int64"
      ]
     },
     "execution_count": 7,
     "metadata": {},
     "output_type": "execute_result"
    },
    {
     "data": {
      "application/javascript": [
       "\n",
       "            setTimeout(function() {\n",
       "                var nbb_cell_id = 7;\n",
       "                var nbb_unformatted_code = \"# checking number of records for each of the 16 personality types\\npersonality_data[\\\"type\\\"].value_counts()\";\n",
       "                var nbb_formatted_code = \"# checking number of records for each of the 16 personality types\\npersonality_data[\\\"type\\\"].value_counts()\";\n",
       "                var nbb_cells = Jupyter.notebook.get_cells();\n",
       "                for (var i = 0; i < nbb_cells.length; ++i) {\n",
       "                    if (nbb_cells[i].input_prompt_number == nbb_cell_id) {\n",
       "                        if (nbb_cells[i].get_text() == nbb_unformatted_code) {\n",
       "                             nbb_cells[i].set_text(nbb_formatted_code);\n",
       "                        }\n",
       "                        break;\n",
       "                    }\n",
       "                }\n",
       "            }, 500);\n",
       "            "
      ],
      "text/plain": [
       "<IPython.core.display.Javascript object>"
      ]
     },
     "metadata": {},
     "output_type": "display_data"
    }
   ],
   "source": [
    "# checking number of records for each of the 16 personality types\n",
    "personality_data[\"type\"].value_counts()"
   ]
  },
  {
   "cell_type": "markdown",
   "metadata": {},
   "source": [
    "The dataset seems to be Imbalanced."
   ]
  },
  {
   "cell_type": "code",
   "execution_count": 8,
   "metadata": {},
   "outputs": [
    {
     "data": {
      "image/png": "[encoded data removed]",
      "text/plain": [
       "<Figure size 432x288 with 1 Axes>"
      ]
     },
     "metadata": {
      "needs_background": "light"
     },
     "output_type": "display_data"
    },
    {
     "data": {
      "application/javascript": [
       "\n",
       "            setTimeout(function() {\n",
       "                var nbb_cell_id = 8;\n",
       "                var nbb_unformatted_code = \"# visually showing the class imbalance\\npersonality_data[\\\"type\\\"].value_counts().plot(kind=\\\"bar\\\", color=\\\"#61BED6\\\")\\nplt.show()\";\n",
       "                var nbb_formatted_code = \"# visually showing the class imbalance\\npersonality_data[\\\"type\\\"].value_counts().plot(kind=\\\"bar\\\", color=\\\"#61BED6\\\")\\nplt.show()\";\n",
       "                var nbb_cells = Jupyter.notebook.get_cells();\n",
       "                for (var i = 0; i < nbb_cells.length; ++i) {\n",
       "                    if (nbb_cells[i].input_prompt_number == nbb_cell_id) {\n",
       "                        if (nbb_cells[i].get_text() == nbb_unformatted_code) {\n",
       "                             nbb_cells[i].set_text(nbb_formatted_code);\n",
       "                        }\n",
       "                        break;\n",
       "                    }\n",
       "                }\n",
       "            }, 500);\n",
       "            "
      ],
      "text/plain": [
       "<IPython.core.display.Javascript object>"
      ]
     },
     "metadata": {},
     "output_type": "display_data"
    }
   ],
   "source": [
    "# visually showing the class imbalance\n",
    "personality_data[\"type\"].value_counts().plot(kind=\"bar\", color=\"#61BED6\")\n",
    "plt.show()"
   ]
  },
  {
   "cell_type": "code",
   "execution_count": 9,
   "metadata": {},
   "outputs": [
    {
     "data": {
      "text/html": [
       "<div>\n",
       "<style scoped>\n",
       "    .dataframe tbody tr th:only-of-type {\n",
       "        vertical-align: middle;\n",
       "    }\n",
       "\n",
       "    .dataframe tbody tr th {\n",
       "        vertical-align: top;\n",
       "    }\n",
       "\n",
       "    .dataframe thead th {\n",
       "        text-align: right;\n",
       "    }\n",
       "</style>\n",
       "<table border=\"1\" class=\"dataframe\">\n",
       "  <thead>\n",
       "    <tr style=\"text-align: right;\">\n",
       "      <th></th>\n",
       "      <th>type</th>\n",
       "      <th>is_Extrovert</th>\n",
       "      <th>is_Sensing</th>\n",
       "      <th>is_Thinking</th>\n",
       "      <th>is_Judging</th>\n",
       "      <th>posts</th>\n",
       "    </tr>\n",
       "  </thead>\n",
       "  <tbody>\n",
       "    <tr>\n",
       "      <th>0</th>\n",
       "      <td>INFJ</td>\n",
       "      <td>0</td>\n",
       "      <td>0</td>\n",
       "      <td>0</td>\n",
       "      <td>1</td>\n",
       "      <td>'When asked of the things you wish you did ear...</td>\n",
       "    </tr>\n",
       "    <tr>\n",
       "      <th>1</th>\n",
       "      <td>INFJ</td>\n",
       "      <td>0</td>\n",
       "      <td>0</td>\n",
       "      <td>0</td>\n",
       "      <td>1</td>\n",
       "      <td>'I love both and they are equally important to...</td>\n",
       "    </tr>\n",
       "    <tr>\n",
       "      <th>2</th>\n",
       "      <td>INFJ</td>\n",
       "      <td>0</td>\n",
       "      <td>0</td>\n",
       "      <td>0</td>\n",
       "      <td>1</td>\n",
       "      <td>Really? You think implying that everyone who i...</td>\n",
       "    </tr>\n",
       "    <tr>\n",
       "      <th>3</th>\n",
       "      <td>ENFJ</td>\n",
       "      <td>1</td>\n",
       "      <td>0</td>\n",
       "      <td>0</td>\n",
       "      <td>1</td>\n",
       "      <td>'Love is a crazy thing.   Se is our best form ...</td>\n",
       "    </tr>\n",
       "    <tr>\n",
       "      <th>4</th>\n",
       "      <td>INTP</td>\n",
       "      <td>0</td>\n",
       "      <td>0</td>\n",
       "      <td>1</td>\n",
       "      <td>0</td>\n",
       "      <td>'I am a physics undergrad with a computation e...</td>\n",
       "    </tr>\n",
       "  </tbody>\n",
       "</table>\n",
       "</div>"
      ],
      "text/plain": [
       "   type  is_Extrovert  is_Sensing  is_Thinking  is_Judging  \\\n",
       "0  INFJ             0           0            0           1   \n",
       "1  INFJ             0           0            0           1   \n",
       "2  INFJ             0           0            0           1   \n",
       "3  ENFJ             1           0            0           1   \n",
       "4  INTP             0           0            1           0   \n",
       "\n",
       "                                               posts  \n",
       "0  'When asked of the things you wish you did ear...  \n",
       "1  'I love both and they are equally important to...  \n",
       "2  Really? You think implying that everyone who i...  \n",
       "3  'Love is a crazy thing.   Se is our best form ...  \n",
       "4  'I am a physics undergrad with a computation e...  "
      ]
     },
     "execution_count": 9,
     "metadata": {},
     "output_type": "execute_result"
    },
    {
     "data": {
      "application/javascript": [
       "\n",
       "            setTimeout(function() {\n",
       "                var nbb_cell_id = 9;\n",
       "                var nbb_unformatted_code = \"# to handle the class imbalance better, converting the 16 classes into 4 more balanced classes\\n\\npersonality_data[\\\"is_Extrovert\\\"] = personality_data[\\\"type\\\"].apply(\\n    lambda x: 1 if x[0] == \\\"E\\\" else 0\\n)\\npersonality_data[\\\"is_Sensing\\\"] = personality_data[\\\"type\\\"].apply(\\n    lambda x: 1 if x[1] == \\\"S\\\" else 0\\n)\\npersonality_data[\\\"is_Thinking\\\"] = personality_data[\\\"type\\\"].apply(\\n    lambda x: 1 if x[2] == \\\"T\\\" else 0\\n)\\npersonality_data[\\\"is_Judging\\\"] = personality_data[\\\"type\\\"].apply(\\n    lambda x: 1 if x[3] == \\\"J\\\" else 0\\n)\\n\\n# rearranging the dataframe columns\\npersonality_data = personality_data[\\n    [\\\"type\\\", \\\"is_Extrovert\\\", \\\"is_Sensing\\\", \\\"is_Thinking\\\", \\\"is_Judging\\\", \\\"posts\\\"]\\n]\\npersonality_data.head()\";\n",
       "                var nbb_formatted_code = \"# to handle the class imbalance better, converting the 16 classes into 4 more balanced classes\\n\\npersonality_data[\\\"is_Extrovert\\\"] = personality_data[\\\"type\\\"].apply(\\n    lambda x: 1 if x[0] == \\\"E\\\" else 0\\n)\\npersonality_data[\\\"is_Sensing\\\"] = personality_data[\\\"type\\\"].apply(\\n    lambda x: 1 if x[1] == \\\"S\\\" else 0\\n)\\npersonality_data[\\\"is_Thinking\\\"] = personality_data[\\\"type\\\"].apply(\\n    lambda x: 1 if x[2] == \\\"T\\\" else 0\\n)\\npersonality_data[\\\"is_Judging\\\"] = personality_data[\\\"type\\\"].apply(\\n    lambda x: 1 if x[3] == \\\"J\\\" else 0\\n)\\n\\n# rearranging the dataframe columns\\npersonality_data = personality_data[\\n    [\\\"type\\\", \\\"is_Extrovert\\\", \\\"is_Sensing\\\", \\\"is_Thinking\\\", \\\"is_Judging\\\", \\\"posts\\\"]\\n]\\npersonality_data.head()\";\n",
       "                var nbb_cells = Jupyter.notebook.get_cells();\n",
       "                for (var i = 0; i < nbb_cells.length; ++i) {\n",
       "                    if (nbb_cells[i].input_prompt_number == nbb_cell_id) {\n",
       "                        if (nbb_cells[i].get_text() == nbb_unformatted_code) {\n",
       "                             nbb_cells[i].set_text(nbb_formatted_code);\n",
       "                        }\n",
       "                        break;\n",
       "                    }\n",
       "                }\n",
       "            }, 500);\n",
       "            "
      ],
      "text/plain": [
       "<IPython.core.display.Javascript object>"
      ]
     },
     "metadata": {},
     "output_type": "display_data"
    }
   ],
   "source": [
    "# to handle the class imbalance better, converting the 16 classes into 4 more balanced classes\n",
    "\n",
    "personality_data[\"is_Extrovert\"] = personality_data[\"type\"].apply(\n",
    "    lambda x: 1 if x[0] == \"E\" else 0\n",
    ")\n",
    "personality_data[\"is_Sensing\"] = personality_data[\"type\"].apply(\n",
    "    lambda x: 1 if x[1] == \"S\" else 0\n",
    ")\n",
    "personality_data[\"is_Thinking\"] = personality_data[\"type\"].apply(\n",
    "    lambda x: 1 if x[2] == \"T\" else 0\n",
    ")\n",
    "personality_data[\"is_Judging\"] = personality_data[\"type\"].apply(\n",
    "    lambda x: 1 if x[3] == \"J\" else 0\n",
    ")\n",
    "\n",
    "# rearranging the dataframe columns\n",
    "personality_data = personality_data[\n",
    "    [\"type\", \"is_Extrovert\", \"is_Sensing\", \"is_Thinking\", \"is_Judging\", \"posts\"]\n",
    "]\n",
    "personality_data.head()"
   ]
  },
  {
   "cell_type": "markdown",
   "metadata": {},
   "source": [
    "### Note:\n",
    "\n",
    "* Extroversion vs. Introversion\n",
    "    * I - 0\n",
    "    * E - 1 \n",
    "    \n",
    "* Sensing vs. Intuition \n",
    "    * N - 0 \n",
    "    * S - 1\n",
    "    \n",
    "* Thinking vs. Feeling\n",
    "    * F - 0\n",
    "    * T - 1\n",
    "    \n",
    "* Judging vs. Perceiving\n",
    "    * P - 0\n",
    "    * J - 1 "
   ]
  },
  {
   "cell_type": "code",
   "execution_count": 10,
   "metadata": {},
   "outputs": [
    {
     "data": {
      "application/javascript": [
       "\n",
       "            setTimeout(function() {\n",
       "                var nbb_cell_id = 10;\n",
       "                var nbb_unformatted_code = \"# checking individual counts\\nintrovert_count = personality_data[\\\"is_Extrovert\\\"].value_counts()[0]\\nextrovert_count = personality_data[\\\"is_Extrovert\\\"].value_counts()[1]\\n\\nintuition_count = personality_data[\\\"is_Sensing\\\"].value_counts()[0]\\nsensing_count = personality_data[\\\"is_Sensing\\\"].value_counts()[1]\\n\\nfeeling_count = personality_data[\\\"is_Thinking\\\"].value_counts()[0]\\nthinking_count = personality_data[\\\"is_Thinking\\\"].value_counts()[1]\\n\\nperceiving_count = personality_data[\\\"is_Judging\\\"].value_counts()[0]\\njudging_count = personality_data[\\\"is_Judging\\\"].value_counts()[1]\";\n",
       "                var nbb_formatted_code = \"# checking individual counts\\nintrovert_count = personality_data[\\\"is_Extrovert\\\"].value_counts()[0]\\nextrovert_count = personality_data[\\\"is_Extrovert\\\"].value_counts()[1]\\n\\nintuition_count = personality_data[\\\"is_Sensing\\\"].value_counts()[0]\\nsensing_count = personality_data[\\\"is_Sensing\\\"].value_counts()[1]\\n\\nfeeling_count = personality_data[\\\"is_Thinking\\\"].value_counts()[0]\\nthinking_count = personality_data[\\\"is_Thinking\\\"].value_counts()[1]\\n\\nperceiving_count = personality_data[\\\"is_Judging\\\"].value_counts()[0]\\njudging_count = personality_data[\\\"is_Judging\\\"].value_counts()[1]\";\n",
       "                var nbb_cells = Jupyter.notebook.get_cells();\n",
       "                for (var i = 0; i < nbb_cells.length; ++i) {\n",
       "                    if (nbb_cells[i].input_prompt_number == nbb_cell_id) {\n",
       "                        if (nbb_cells[i].get_text() == nbb_unformatted_code) {\n",
       "                             nbb_cells[i].set_text(nbb_formatted_code);\n",
       "                        }\n",
       "                        break;\n",
       "                    }\n",
       "                }\n",
       "            }, 500);\n",
       "            "
      ],
      "text/plain": [
       "<IPython.core.display.Javascript object>"
      ]
     },
     "metadata": {},
     "output_type": "display_data"
    }
   ],
   "source": [
    "# checking individual counts\n",
    "introvert_count = personality_data[\"is_Extrovert\"].value_counts()[0]\n",
    "extrovert_count = personality_data[\"is_Extrovert\"].value_counts()[1]\n",
    "\n",
    "intuition_count = personality_data[\"is_Sensing\"].value_counts()[0]\n",
    "sensing_count = personality_data[\"is_Sensing\"].value_counts()[1]\n",
    "\n",
    "feeling_count = personality_data[\"is_Thinking\"].value_counts()[0]\n",
    "thinking_count = personality_data[\"is_Thinking\"].value_counts()[1]\n",
    "\n",
    "perceiving_count = personality_data[\"is_Judging\"].value_counts()[0]\n",
    "judging_count = personality_data[\"is_Judging\"].value_counts()[1]"
   ]
  },
  {
   "cell_type": "code",
   "execution_count": 11,
   "metadata": {},
   "outputs": [
    {
     "name": "stdout",
     "output_type": "stream",
     "text": [
      "Introvert Count: 6609\n",
      "Extrovert Count: 1979\n",
      "Intuition Count: 7403\n",
      "Sensing Count: 1185\n",
      "Feeling Count: 4646\n",
      "Thinking Count: 3942\n",
      "Perceiving Count: 5188\n",
      "Judging Count: 3400\n"
     ]
    },
    {
     "data": {
      "application/javascript": [
       "\n",
       "            setTimeout(function() {\n",
       "                var nbb_cell_id = 11;\n",
       "                var nbb_unformatted_code = \"# printing all the counts\\nprint(f\\\"Introvert Count: {introvert_count}\\\")\\nprint(f\\\"Extrovert Count: {extrovert_count}\\\")\\nprint(f\\\"Intuition Count: {intuition_count}\\\")\\nprint(f\\\"Sensing Count: {sensing_count}\\\")\\nprint(f\\\"Feeling Count: {feeling_count}\\\")\\nprint(f\\\"Thinking Count: {thinking_count}\\\")\\nprint(f\\\"Perceiving Count: {perceiving_count}\\\")\\nprint(f\\\"Judging Count: {judging_count}\\\")\";\n",
       "                var nbb_formatted_code = \"# printing all the counts\\nprint(f\\\"Introvert Count: {introvert_count}\\\")\\nprint(f\\\"Extrovert Count: {extrovert_count}\\\")\\nprint(f\\\"Intuition Count: {intuition_count}\\\")\\nprint(f\\\"Sensing Count: {sensing_count}\\\")\\nprint(f\\\"Feeling Count: {feeling_count}\\\")\\nprint(f\\\"Thinking Count: {thinking_count}\\\")\\nprint(f\\\"Perceiving Count: {perceiving_count}\\\")\\nprint(f\\\"Judging Count: {judging_count}\\\")\";\n",
       "                var nbb_cells = Jupyter.notebook.get_cells();\n",
       "                for (var i = 0; i < nbb_cells.length; ++i) {\n",
       "                    if (nbb_cells[i].input_prompt_number == nbb_cell_id) {\n",
       "                        if (nbb_cells[i].get_text() == nbb_unformatted_code) {\n",
       "                             nbb_cells[i].set_text(nbb_formatted_code);\n",
       "                        }\n",
       "                        break;\n",
       "                    }\n",
       "                }\n",
       "            }, 500);\n",
       "            "
      ],
      "text/plain": [
       "<IPython.core.display.Javascript object>"
      ]
     },
     "metadata": {},
     "output_type": "display_data"
    }
   ],
   "source": [
    "# printing all the counts\n",
    "print(f\"Introvert Count: {introvert_count}\")\n",
    "print(f\"Extrovert Count: {extrovert_count}\")\n",
    "print(f\"Intuition Count: {intuition_count}\")\n",
    "print(f\"Sensing Count: {sensing_count}\")\n",
    "print(f\"Feeling Count: {feeling_count}\")\n",
    "print(f\"Thinking Count: {thinking_count}\")\n",
    "print(f\"Perceiving Count: {perceiving_count}\")\n",
    "print(f\"Judging Count: {judging_count}\")"
   ]
  },
  {
   "cell_type": "code",
   "execution_count": 12,
   "metadata": {},
   "outputs": [
    {
     "data": {
      "image/png": "[encoded data removed]",
      "text/plain": [
       "<Figure size 432x288 with 1 Axes>"
      ]
     },
     "metadata": {
      "needs_background": "light"
     },
     "output_type": "display_data"
    },
    {
     "data": {
      "application/javascript": [
       "\n",
       "            setTimeout(function() {\n",
       "                var nbb_cell_id = 12;\n",
       "                var nbb_unformatted_code = \"sns.countplot(\\n    x=\\\"variable\\\",\\n    hue=\\\"value\\\",\\n    data=pd.melt(\\n        personality_data[[\\\"is_Extrovert\\\", \\\"is_Sensing\\\", \\\"is_Thinking\\\", \\\"is_Judging\\\"]]\\n    ),\\n    palette=[\\\"#61BED6\\\", \\\"#A386B4\\\"],\\n)\\n\\nplt.show()\";\n",
       "                var nbb_formatted_code = \"sns.countplot(\\n    x=\\\"variable\\\",\\n    hue=\\\"value\\\",\\n    data=pd.melt(\\n        personality_data[[\\\"is_Extrovert\\\", \\\"is_Sensing\\\", \\\"is_Thinking\\\", \\\"is_Judging\\\"]]\\n    ),\\n    palette=[\\\"#61BED6\\\", \\\"#A386B4\\\"],\\n)\\n\\nplt.show()\";\n",
       "                var nbb_cells = Jupyter.notebook.get_cells();\n",
       "                for (var i = 0; i < nbb_cells.length; ++i) {\n",
       "                    if (nbb_cells[i].input_prompt_number == nbb_cell_id) {\n",
       "                        if (nbb_cells[i].get_text() == nbb_unformatted_code) {\n",
       "                             nbb_cells[i].set_text(nbb_formatted_code);\n",
       "                        }\n",
       "                        break;\n",
       "                    }\n",
       "                }\n",
       "            }, 500);\n",
       "            "
      ],
      "text/plain": [
       "<IPython.core.display.Javascript object>"
      ]
     },
     "metadata": {},
     "output_type": "display_data"
    }
   ],
   "source": [
    "sns.countplot(\n",
    "    x=\"variable\",\n",
    "    hue=\"value\",\n",
    "    data=pd.melt(\n",
    "        personality_data[[\"is_Extrovert\", \"is_Sensing\", \"is_Thinking\", \"is_Judging\"]]\n",
    "    ),\n",
    "    palette=[\"#61BED6\", \"#A386B4\"],\n",
    ")\n",
    "\n",
    "plt.show()"
   ]
  },
  {
   "cell_type": "markdown",
   "metadata": {},
   "source": [
    "The class imbalance issue still seem to exist but we will proceed with this for now. "
   ]
  },
  {
   "cell_type": "markdown",
   "metadata": {},
   "source": [
    "#### Checking for the presence of correlations"
   ]
  },
  {
   "cell_type": "code",
   "execution_count": 13,
   "metadata": {},
   "outputs": [
    {
     "data": {
      "text/html": [
       "<style  type=\"text/css\" >\n",
       "    #T_5877b1fe_9873_11ea_b1b1_380025f3998frow0_col0 {\n",
       "            background-color:  #08306b;\n",
       "            color:  #f1f1f1;\n",
       "        }    #T_5877b1fe_9873_11ea_b1b1_380025f3998frow0_col1 {\n",
       "            background-color:  #f7fbff;\n",
       "            color:  #000000;\n",
       "        }    #T_5877b1fe_9873_11ea_b1b1_380025f3998frow0_col2 {\n",
       "            background-color:  #e9f2fa;\n",
       "            color:  #000000;\n",
       "        }    #T_5877b1fe_9873_11ea_b1b1_380025f3998frow0_col3 {\n",
       "            background-color:  #f7fbff;\n",
       "            color:  #000000;\n",
       "        }    #T_5877b1fe_9873_11ea_b1b1_380025f3998frow1_col0 {\n",
       "            background-color:  #e3eef9;\n",
       "            color:  #000000;\n",
       "        }    #T_5877b1fe_9873_11ea_b1b1_380025f3998frow1_col1 {\n",
       "            background-color:  #08306b;\n",
       "            color:  #f1f1f1;\n",
       "        }    #T_5877b1fe_9873_11ea_b1b1_380025f3998frow1_col2 {\n",
       "            background-color:  #e7f0fa;\n",
       "            color:  #000000;\n",
       "        }    #T_5877b1fe_9873_11ea_b1b1_380025f3998frow1_col3 {\n",
       "            background-color:  #deebf7;\n",
       "            color:  #000000;\n",
       "        }    #T_5877b1fe_9873_11ea_b1b1_380025f3998frow2_col0 {\n",
       "            background-color:  #d0e2f2;\n",
       "            color:  #000000;\n",
       "        }    #T_5877b1fe_9873_11ea_b1b1_380025f3998frow2_col1 {\n",
       "            background-color:  #dfebf7;\n",
       "            color:  #000000;\n",
       "        }    #T_5877b1fe_9873_11ea_b1b1_380025f3998frow2_col2 {\n",
       "            background-color:  #08306b;\n",
       "            color:  #f1f1f1;\n",
       "        }    #T_5877b1fe_9873_11ea_b1b1_380025f3998frow2_col3 {\n",
       "            background-color:  #dceaf6;\n",
       "            color:  #000000;\n",
       "        }    #T_5877b1fe_9873_11ea_b1b1_380025f3998frow3_col0 {\n",
       "            background-color:  #f7fbff;\n",
       "            color:  #000000;\n",
       "        }    #T_5877b1fe_9873_11ea_b1b1_380025f3998frow3_col1 {\n",
       "            background-color:  #f2f7fd;\n",
       "            color:  #000000;\n",
       "        }    #T_5877b1fe_9873_11ea_b1b1_380025f3998frow3_col2 {\n",
       "            background-color:  #f7fbff;\n",
       "            color:  #000000;\n",
       "        }    #T_5877b1fe_9873_11ea_b1b1_380025f3998frow3_col3 {\n",
       "            background-color:  #08306b;\n",
       "            color:  #f1f1f1;\n",
       "        }</style><table id=\"T_5877b1fe_9873_11ea_b1b1_380025f3998f\" ><thead>    <tr>        <th class=\"blank level0\" ></th>        <th class=\"col_heading level0 col0\" >is_Extrovert</th>        <th class=\"col_heading level0 col1\" >is_Sensing</th>        <th class=\"col_heading level0 col2\" >is_Thinking</th>        <th class=\"col_heading level0 col3\" >is_Judging</th>    </tr></thead><tbody>\n",
       "                <tr>\n",
       "                        <th id=\"T_5877b1fe_9873_11ea_b1b1_380025f3998flevel0_row0\" class=\"row_heading level0 row0\" >is_Extrovert</th>\n",
       "                        <td id=\"T_5877b1fe_9873_11ea_b1b1_380025f3998frow0_col0\" class=\"data row0 col0\" >1.0000</td>\n",
       "                        <td id=\"T_5877b1fe_9873_11ea_b1b1_380025f3998frow0_col1\" class=\"data row0 col1\" >-0.0458</td>\n",
       "                        <td id=\"T_5877b1fe_9873_11ea_b1b1_380025f3998frow0_col2\" class=\"data row0 col2\" >0.0697</td>\n",
       "                        <td id=\"T_5877b1fe_9873_11ea_b1b1_380025f3998frow0_col3\" class=\"data row0 col3\" >-0.1614</td>\n",
       "            </tr>\n",
       "            <tr>\n",
       "                        <th id=\"T_5877b1fe_9873_11ea_b1b1_380025f3998flevel0_row1\" class=\"row_heading level0 row1\" >is_Sensing</th>\n",
       "                        <td id=\"T_5877b1fe_9873_11ea_b1b1_380025f3998frow1_col0\" class=\"data row1 col0\" >-0.0458</td>\n",
       "                        <td id=\"T_5877b1fe_9873_11ea_b1b1_380025f3998frow1_col1\" class=\"data row1 col1\" >1.0000</td>\n",
       "                        <td id=\"T_5877b1fe_9873_11ea_b1b1_380025f3998frow1_col2\" class=\"data row1 col2\" >0.0814</td>\n",
       "                        <td id=\"T_5877b1fe_9873_11ea_b1b1_380025f3998frow1_col3\" class=\"data row1 col3\" >-0.0146</td>\n",
       "            </tr>\n",
       "            <tr>\n",
       "                        <th id=\"T_5877b1fe_9873_11ea_b1b1_380025f3998flevel0_row2\" class=\"row_heading level0 row2\" >is_Thinking</th>\n",
       "                        <td id=\"T_5877b1fe_9873_11ea_b1b1_380025f3998frow2_col0\" class=\"data row2 col0\" >0.0697</td>\n",
       "                        <td id=\"T_5877b1fe_9873_11ea_b1b1_380025f3998frow2_col1\" class=\"data row2 col1\" >0.0814</td>\n",
       "                        <td id=\"T_5877b1fe_9873_11ea_b1b1_380025f3998frow2_col2\" class=\"data row2 col2\" >1.0000</td>\n",
       "                        <td id=\"T_5877b1fe_9873_11ea_b1b1_380025f3998frow2_col3\" class=\"data row2 col3\" >-0.0046</td>\n",
       "            </tr>\n",
       "            <tr>\n",
       "                        <th id=\"T_5877b1fe_9873_11ea_b1b1_380025f3998flevel0_row3\" class=\"row_heading level0 row3\" >is_Judging</th>\n",
       "                        <td id=\"T_5877b1fe_9873_11ea_b1b1_380025f3998frow3_col0\" class=\"data row3 col0\" >-0.1614</td>\n",
       "                        <td id=\"T_5877b1fe_9873_11ea_b1b1_380025f3998frow3_col1\" class=\"data row3 col1\" >-0.0146</td>\n",
       "                        <td id=\"T_5877b1fe_9873_11ea_b1b1_380025f3998frow3_col2\" class=\"data row3 col2\" >-0.0046</td>\n",
       "                        <td id=\"T_5877b1fe_9873_11ea_b1b1_380025f3998frow3_col3\" class=\"data row3 col3\" >1.0000</td>\n",
       "            </tr>\n",
       "    </tbody></table>"
      ],
      "text/plain": [
       "<pandas.io.formats.style.Styler at 0x19711ee0848>"
      ]
     },
     "execution_count": 13,
     "metadata": {},
     "output_type": "execute_result"
    },
    {
     "data": {
      "application/javascript": [
       "\n",
       "            setTimeout(function() {\n",
       "                var nbb_cell_id = 13;\n",
       "                var nbb_unformatted_code = \"corr = personality_data[\\n    [\\\"is_Extrovert\\\", \\\"is_Sensing\\\", \\\"is_Thinking\\\", \\\"is_Judging\\\"]\\n].corr()\\ncorr.style.background_gradient(cmap=\\\"Blues\\\").set_precision(4)\";\n",
       "                var nbb_formatted_code = \"corr = personality_data[\\n    [\\\"is_Extrovert\\\", \\\"is_Sensing\\\", \\\"is_Thinking\\\", \\\"is_Judging\\\"]\\n].corr()\\ncorr.style.background_gradient(cmap=\\\"Blues\\\").set_precision(4)\";\n",
       "                var nbb_cells = Jupyter.notebook.get_cells();\n",
       "                for (var i = 0; i < nbb_cells.length; ++i) {\n",
       "                    if (nbb_cells[i].input_prompt_number == nbb_cell_id) {\n",
       "                        if (nbb_cells[i].get_text() == nbb_unformatted_code) {\n",
       "                             nbb_cells[i].set_text(nbb_formatted_code);\n",
       "                        }\n",
       "                        break;\n",
       "                    }\n",
       "                }\n",
       "            }, 500);\n",
       "            "
      ],
      "text/plain": [
       "<IPython.core.display.Javascript object>"
      ]
     },
     "metadata": {},
     "output_type": "display_data"
    }
   ],
   "source": [
    "corr = personality_data[\n",
    "    [\"is_Extrovert\", \"is_Sensing\", \"is_Thinking\", \"is_Judging\"]\n",
    "].corr()\n",
    "corr.style.background_gradient(cmap=\"Blues\").set_precision(4)"
   ]
  },
  {
   "cell_type": "markdown",
   "metadata": {},
   "source": [
    "There does not seem to be any strong correlation between the four personality dimenions."
   ]
  },
  {
   "cell_type": "markdown",
   "metadata": {},
   "source": [
    "### Feature Engineering - I"
   ]
  },
  {
   "cell_type": "markdown",
   "metadata": {},
   "source": [
    "#### Data Cleaning"
   ]
  },
  {
   "cell_type": "code",
   "execution_count": 14,
   "metadata": {},
   "outputs": [
    {
     "data": {
      "application/javascript": [
       "\n",
       "            setTimeout(function() {\n",
       "                var nbb_cell_id = 14;\n",
       "                var nbb_unformatted_code = \"# converting posts into lower case\\npersonality_data[\\\"clean_posts\\\"] = personality_data[\\\"posts\\\"].str.lower()\\n\\n# replacing ||| with space\\npersonality_data[\\\"clean_posts\\\"] = personality_data[\\\"clean_posts\\\"].str.replace(\\n    re.compile(r\\\"\\\\|\\\\|\\\\|\\\"), \\\" \\\"\\n)\\n\\n# replacing urls with domain name\\n# personality_data[\\\"clean_posts\\\"] = personality_data[\\\"clean_posts\\\"].str.replace(\\n#     re.compile(r\\\"https?:\\\\/\\\\/(www)?.?([A-Za-z_0-9-]+)([\\\\S])*\\\"),\\n#     lambda match: match.group(2),\\n# )\\npersonality_data[\\\"clean_posts\\\"] = personality_data[\\\"clean_posts\\\"].str.replace(\\n    re.compile(r\\\"https?:\\\\/\\\\/(www)?.?([A-Za-z_0-9-]+)([\\\\S])*\\\"), \\\"\\\"\\n)\\n\\n# dropping emails\\npersonality_data[\\\"clean_posts\\\"] = personality_data[\\\"clean_posts\\\"].str.replace(\\n    re.compile(r\\\"\\\\S+@\\\\S+\\\"), \\\"\\\"\\n)\\n\\n# dropping punctuations\\npersonality_data[\\\"clean_posts\\\"] = personality_data[\\\"clean_posts\\\"].str.replace(\\n    re.compile(r\\\"[^a-z\\\\s]\\\"), \\\" \\\"\\n)\\n\\n# dropping MBTIs mentioned in the posts. There are quite a few mention of these types in these posts.\\nmbti = personality_data[\\\"type\\\"].unique()\\nfor type_word in mbti:\\n    personality_data[\\\"clean_posts\\\"] = personality_data[\\\"clean_posts\\\"].str.replace(\\n        type_word.lower(), \\\"\\\"\\n    )\";\n",
       "                var nbb_formatted_code = \"# converting posts into lower case\\npersonality_data[\\\"clean_posts\\\"] = personality_data[\\\"posts\\\"].str.lower()\\n\\n# replacing ||| with space\\npersonality_data[\\\"clean_posts\\\"] = personality_data[\\\"clean_posts\\\"].str.replace(\\n    re.compile(r\\\"\\\\|\\\\|\\\\|\\\"), \\\" \\\"\\n)\\n\\n# replacing urls with domain name\\n# personality_data[\\\"clean_posts\\\"] = personality_data[\\\"clean_posts\\\"].str.replace(\\n#     re.compile(r\\\"https?:\\\\/\\\\/(www)?.?([A-Za-z_0-9-]+)([\\\\S])*\\\"),\\n#     lambda match: match.group(2),\\n# )\\npersonality_data[\\\"clean_posts\\\"] = personality_data[\\\"clean_posts\\\"].str.replace(\\n    re.compile(r\\\"https?:\\\\/\\\\/(www)?.?([A-Za-z_0-9-]+)([\\\\S])*\\\"), \\\"\\\"\\n)\\n\\n# dropping emails\\npersonality_data[\\\"clean_posts\\\"] = personality_data[\\\"clean_posts\\\"].str.replace(\\n    re.compile(r\\\"\\\\S+@\\\\S+\\\"), \\\"\\\"\\n)\\n\\n# dropping punctuations\\npersonality_data[\\\"clean_posts\\\"] = personality_data[\\\"clean_posts\\\"].str.replace(\\n    re.compile(r\\\"[^a-z\\\\s]\\\"), \\\" \\\"\\n)\\n\\n# dropping MBTIs mentioned in the posts. There are quite a few mention of these types in these posts.\\nmbti = personality_data[\\\"type\\\"].unique()\\nfor type_word in mbti:\\n    personality_data[\\\"clean_posts\\\"] = personality_data[\\\"clean_posts\\\"].str.replace(\\n        type_word.lower(), \\\"\\\"\\n    )\";\n",
       "                var nbb_cells = Jupyter.notebook.get_cells();\n",
       "                for (var i = 0; i < nbb_cells.length; ++i) {\n",
       "                    if (nbb_cells[i].input_prompt_number == nbb_cell_id) {\n",
       "                        if (nbb_cells[i].get_text() == nbb_unformatted_code) {\n",
       "                             nbb_cells[i].set_text(nbb_formatted_code);\n",
       "                        }\n",
       "                        break;\n",
       "                    }\n",
       "                }\n",
       "            }, 500);\n",
       "            "
      ],
      "text/plain": [
       "<IPython.core.display.Javascript object>"
      ]
     },
     "metadata": {},
     "output_type": "display_data"
    }
   ],
   "source": [
    "# converting posts into lower case\n",
    "personality_data[\"clean_posts\"] = personality_data[\"posts\"].str.lower()\n",
    "\n",
    "# replacing ||| with space\n",
    "personality_data[\"clean_posts\"] = personality_data[\"clean_posts\"].str.replace(\n",
    "    re.compile(r\"\\|\\|\\|\"), \" \"\n",
    ")\n",
    "\n",
    "personality_data[\"clean_posts\"] = personality_data[\"clean_posts\"].str.replace(\n",
    "    re.compile(r\"https?:\\/\\/(www)?.?([A-Za-z_0-9-]+)([\\S])*\"), \"\"\n",
    ")\n",
    "\n",
    "# dropping emails\n",
    "personality_data[\"clean_posts\"] = personality_data[\"clean_posts\"].str.replace(\n",
    "    re.compile(r\"\\S+@\\S+\"), \"\"\n",
    ")\n",
    "\n",
    "# dropping punctuations\n",
    "personality_data[\"clean_posts\"] = personality_data[\"clean_posts\"].str.replace(\n",
    "    re.compile(r\"[^a-z\\s]\"), \" \"\n",
    ")\n",
    "\n",
    "# dropping MBTIs mentioned in the posts. There are quite a few mention of these types in these posts.\n",
    "mbti = personality_data[\"type\"].unique()\n",
    "for type_word in mbti:\n",
    "    personality_data[\"clean_posts\"] = personality_data[\"clean_posts\"].str.replace(\n",
    "        type_word.lower(), \"\"\n",
    "    )"
   ]
  },
  {
   "cell_type": "code",
   "execution_count": 15,
   "metadata": {},
   "outputs": [
    {
     "data": {
      "text/html": [
       "<div>\n",
       "<style scoped>\n",
       "    .dataframe tbody tr th:only-of-type {\n",
       "        vertical-align: middle;\n",
       "    }\n",
       "\n",
       "    .dataframe tbody tr th {\n",
       "        vertical-align: top;\n",
       "    }\n",
       "\n",
       "    .dataframe thead th {\n",
       "        text-align: right;\n",
       "    }\n",
       "</style>\n",
       "<table border=\"1\" class=\"dataframe\">\n",
       "  <thead>\n",
       "    <tr style=\"text-align: right;\">\n",
       "      <th></th>\n",
       "      <th>type</th>\n",
       "      <th>is_Extrovert</th>\n",
       "      <th>is_Sensing</th>\n",
       "      <th>is_Thinking</th>\n",
       "      <th>is_Judging</th>\n",
       "      <th>posts</th>\n",
       "      <th>clean_posts</th>\n",
       "    </tr>\n",
       "  </thead>\n",
       "  <tbody>\n",
       "    <tr>\n",
       "      <th>0</th>\n",
       "      <td>INFJ</td>\n",
       "      <td>0</td>\n",
       "      <td>0</td>\n",
       "      <td>0</td>\n",
       "      <td>1</td>\n",
       "      <td>'When asked of the things you wish you did ear...</td>\n",
       "      <td>when asked of the things you wish you did ear...</td>\n",
       "    </tr>\n",
       "    <tr>\n",
       "      <th>1</th>\n",
       "      <td>INFJ</td>\n",
       "      <td>0</td>\n",
       "      <td>0</td>\n",
       "      <td>0</td>\n",
       "      <td>1</td>\n",
       "      <td>'I love both and they are equally important to...</td>\n",
       "      <td>i love both and they are equally important to...</td>\n",
       "    </tr>\n",
       "    <tr>\n",
       "      <th>2</th>\n",
       "      <td>INFJ</td>\n",
       "      <td>0</td>\n",
       "      <td>0</td>\n",
       "      <td>0</td>\n",
       "      <td>1</td>\n",
       "      <td>Really? You think implying that everyone who i...</td>\n",
       "      <td>really  you think implying that everyone who i...</td>\n",
       "    </tr>\n",
       "    <tr>\n",
       "      <th>3</th>\n",
       "      <td>ENFJ</td>\n",
       "      <td>1</td>\n",
       "      <td>0</td>\n",
       "      <td>0</td>\n",
       "      <td>1</td>\n",
       "      <td>'Love is a crazy thing.   Se is our best form ...</td>\n",
       "      <td>love is a crazy thing    se is our best form ...</td>\n",
       "    </tr>\n",
       "    <tr>\n",
       "      <th>4</th>\n",
       "      <td>INTP</td>\n",
       "      <td>0</td>\n",
       "      <td>0</td>\n",
       "      <td>1</td>\n",
       "      <td>0</td>\n",
       "      <td>'I am a physics undergrad with a computation e...</td>\n",
       "      <td>i am a physics undergrad with a computation e...</td>\n",
       "    </tr>\n",
       "  </tbody>\n",
       "</table>\n",
       "</div>"
      ],
      "text/plain": [
       "   type  is_Extrovert  is_Sensing  is_Thinking  is_Judging  \\\n",
       "0  INFJ             0           0            0           1   \n",
       "1  INFJ             0           0            0           1   \n",
       "2  INFJ             0           0            0           1   \n",
       "3  ENFJ             1           0            0           1   \n",
       "4  INTP             0           0            1           0   \n",
       "\n",
       "                                               posts  \\\n",
       "0  'When asked of the things you wish you did ear...   \n",
       "1  'I love both and they are equally important to...   \n",
       "2  Really? You think implying that everyone who i...   \n",
       "3  'Love is a crazy thing.   Se is our best form ...   \n",
       "4  'I am a physics undergrad with a computation e...   \n",
       "\n",
       "                                         clean_posts  \n",
       "0   when asked of the things you wish you did ear...  \n",
       "1   i love both and they are equally important to...  \n",
       "2  really  you think implying that everyone who i...  \n",
       "3   love is a crazy thing    se is our best form ...  \n",
       "4   i am a physics undergrad with a computation e...  "
      ]
     },
     "execution_count": 15,
     "metadata": {},
     "output_type": "execute_result"
    },
    {
     "data": {
      "application/javascript": [
       "\n",
       "            setTimeout(function() {\n",
       "                var nbb_cell_id = 15;\n",
       "                var nbb_unformatted_code = \"personality_data.head()\";\n",
       "                var nbb_formatted_code = \"personality_data.head()\";\n",
       "                var nbb_cells = Jupyter.notebook.get_cells();\n",
       "                for (var i = 0; i < nbb_cells.length; ++i) {\n",
       "                    if (nbb_cells[i].input_prompt_number == nbb_cell_id) {\n",
       "                        if (nbb_cells[i].get_text() == nbb_unformatted_code) {\n",
       "                             nbb_cells[i].set_text(nbb_formatted_code);\n",
       "                        }\n",
       "                        break;\n",
       "                    }\n",
       "                }\n",
       "            }, 500);\n",
       "            "
      ],
      "text/plain": [
       "<IPython.core.display.Javascript object>"
      ]
     },
     "metadata": {},
     "output_type": "display_data"
    }
   ],
   "source": [
    "personality_data.head()"
   ]
  },
  {
   "cell_type": "markdown",
   "metadata": {},
   "source": [
    "#### Lemmitizing\n",
    "\n",
    "* CAUTION - This will take long to run!!"
   ]
  },
  {
   "cell_type": "code",
   "execution_count": 16,
   "metadata": {},
   "outputs": [
    {
     "name": "stdout",
     "output_type": "stream",
     "text": [
      "Lemmitizing Time: 4214.582945823669 seconds\n"
     ]
    },
    {
     "data": {
      "application/javascript": [
       "\n",
       "            setTimeout(function() {\n",
       "                var nbb_cell_id = 16;\n",
       "                var nbb_unformatted_code = \"# lemmitizing (excluding stop words in this step)\\n\\nt = time.time()\\n\\nlemmatizer = WordNetLemmatizer()\\n\\npersonality_data[\\\"clean_posts\\\"] = personality_data[\\\"clean_posts\\\"].apply(\\n    lambda x: \\\" \\\".join(\\n        [\\n            lemmatizer.lemmatize(word)\\n            for word in x.split(\\\" \\\")\\n            if word not in stopwords.words(\\\"english\\\")\\n        ]\\n    )\\n)\\n\\nprint(f\\\"Lemmitizing Time: {time.time() - t} seconds\\\")\";\n",
       "                var nbb_formatted_code = \"# lemmitizing (excluding stop words in this step)\\n\\nt = time.time()\\n\\nlemmatizer = WordNetLemmatizer()\\n\\npersonality_data[\\\"clean_posts\\\"] = personality_data[\\\"clean_posts\\\"].apply(\\n    lambda x: \\\" \\\".join(\\n        [\\n            lemmatizer.lemmatize(word)\\n            for word in x.split(\\\" \\\")\\n            if word not in stopwords.words(\\\"english\\\")\\n        ]\\n    )\\n)\\n\\nprint(f\\\"Lemmitizing Time: {time.time() - t} seconds\\\")\";\n",
       "                var nbb_cells = Jupyter.notebook.get_cells();\n",
       "                for (var i = 0; i < nbb_cells.length; ++i) {\n",
       "                    if (nbb_cells[i].input_prompt_number == nbb_cell_id) {\n",
       "                        if (nbb_cells[i].get_text() == nbb_unformatted_code) {\n",
       "                             nbb_cells[i].set_text(nbb_formatted_code);\n",
       "                        }\n",
       "                        break;\n",
       "                    }\n",
       "                }\n",
       "            }, 500);\n",
       "            "
      ],
      "text/plain": [
       "<IPython.core.display.Javascript object>"
      ]
     },
     "metadata": {},
     "output_type": "display_data"
    }
   ],
   "source": [
    "# lemmitizing (excluding stop words in this step)\n",
    "\n",
    "t = time.time()\n",
    "\n",
    "lemmatizer = WordNetLemmatizer()\n",
    "\n",
    "personality_data[\"clean_posts\"] = personality_data[\"clean_posts\"].apply(\n",
    "    lambda x: \" \".join(\n",
    "        [\n",
    "            lemmatizer.lemmatize(word)\n",
    "            for word in x.split(\" \")\n",
    "            if word not in stopwords.words(\"english\")\n",
    "        ]\n",
    "    )\n",
    ")\n",
    "\n",
    "print(f\"Lemmitizing Time: {time.time() - t} seconds\")"
   ]
  },
  {
   "cell_type": "markdown",
   "metadata": {},
   "source": [
    "#### Removing words that are 1 to 2 characters long"
   ]
  },
  {
   "cell_type": "code",
   "execution_count": 17,
   "metadata": {},
   "outputs": [
    {
     "data": {
      "application/javascript": [
       "\n",
       "            setTimeout(function() {\n",
       "                var nbb_cell_id = 17;\n",
       "                var nbb_unformatted_code = \"personality_data[\\\"clean_posts\\\"] = personality_data[\\\"clean_posts\\\"].str.replace(\\n    re.compile(r\\\"\\\\b\\\\w{1,2}\\\\b\\\"), \\\"\\\"\\n)\";\n",
       "                var nbb_formatted_code = \"personality_data[\\\"clean_posts\\\"] = personality_data[\\\"clean_posts\\\"].str.replace(\\n    re.compile(r\\\"\\\\b\\\\w{1,2}\\\\b\\\"), \\\"\\\"\\n)\";\n",
       "                var nbb_cells = Jupyter.notebook.get_cells();\n",
       "                for (var i = 0; i < nbb_cells.length; ++i) {\n",
       "                    if (nbb_cells[i].input_prompt_number == nbb_cell_id) {\n",
       "                        if (nbb_cells[i].get_text() == nbb_unformatted_code) {\n",
       "                             nbb_cells[i].set_text(nbb_formatted_code);\n",
       "                        }\n",
       "                        break;\n",
       "                    }\n",
       "                }\n",
       "            }, 500);\n",
       "            "
      ],
      "text/plain": [
       "<IPython.core.display.Javascript object>"
      ]
     },
     "metadata": {},
     "output_type": "display_data"
    }
   ],
   "source": [
    "personality_data[\"clean_posts\"] = personality_data[\"clean_posts\"].str.replace(\n",
    "    re.compile(r\"\\b\\w{1,2}\\b\"), \"\"\n",
    ")"
   ]
  },
  {
   "cell_type": "code",
   "execution_count": 18,
   "metadata": {},
   "outputs": [
    {
     "data": {
      "text/html": [
       "<div>\n",
       "<style scoped>\n",
       "    .dataframe tbody tr th:only-of-type {\n",
       "        vertical-align: middle;\n",
       "    }\n",
       "\n",
       "    .dataframe tbody tr th {\n",
       "        vertical-align: top;\n",
       "    }\n",
       "\n",
       "    .dataframe thead th {\n",
       "        text-align: right;\n",
       "    }\n",
       "</style>\n",
       "<table border=\"1\" class=\"dataframe\">\n",
       "  <thead>\n",
       "    <tr style=\"text-align: right;\">\n",
       "      <th></th>\n",
       "      <th>type</th>\n",
       "      <th>is_Extrovert</th>\n",
       "      <th>is_Sensing</th>\n",
       "      <th>is_Thinking</th>\n",
       "      <th>is_Judging</th>\n",
       "      <th>posts</th>\n",
       "      <th>clean_posts</th>\n",
       "    </tr>\n",
       "  </thead>\n",
       "  <tbody>\n",
       "    <tr>\n",
       "      <th>0</th>\n",
       "      <td>INFJ</td>\n",
       "      <td>0</td>\n",
       "      <td>0</td>\n",
       "      <td>0</td>\n",
       "      <td>1</td>\n",
       "      <td>'When asked of the things you wish you did ear...</td>\n",
       "      <td>asked thing wish earlier       find answering...</td>\n",
       "    </tr>\n",
       "    <tr>\n",
       "      <th>1</th>\n",
       "      <td>INFJ</td>\n",
       "      <td>0</td>\n",
       "      <td>0</td>\n",
       "      <td>0</td>\n",
       "      <td>1</td>\n",
       "      <td>'I love both and they are equally important to...</td>\n",
       "      <td>love equally important  music window soul  in...</td>\n",
       "    </tr>\n",
       "    <tr>\n",
       "      <th>2</th>\n",
       "      <td>INFJ</td>\n",
       "      <td>0</td>\n",
       "      <td>0</td>\n",
       "      <td>0</td>\n",
       "      <td>1</td>\n",
       "      <td>Really? You think implying that everyone who i...</td>\n",
       "      <td>really  think implying everyone entrepreneur s...</td>\n",
       "    </tr>\n",
       "    <tr>\n",
       "      <th>3</th>\n",
       "      <td>ENFJ</td>\n",
       "      <td>1</td>\n",
       "      <td>0</td>\n",
       "      <td>0</td>\n",
       "      <td>1</td>\n",
       "      <td>'Love is a crazy thing.   Se is our best form ...</td>\n",
       "      <td>love crazy thing     best form communication ...</td>\n",
       "    </tr>\n",
       "    <tr>\n",
       "      <th>4</th>\n",
       "      <td>INTP</td>\n",
       "      <td>0</td>\n",
       "      <td>0</td>\n",
       "      <td>1</td>\n",
       "      <td>0</td>\n",
       "      <td>'I am a physics undergrad with a computation e...</td>\n",
       "      <td>physic undergrad computation emphasis  learni...</td>\n",
       "    </tr>\n",
       "  </tbody>\n",
       "</table>\n",
       "</div>"
      ],
      "text/plain": [
       "   type  is_Extrovert  is_Sensing  is_Thinking  is_Judging  \\\n",
       "0  INFJ             0           0            0           1   \n",
       "1  INFJ             0           0            0           1   \n",
       "2  INFJ             0           0            0           1   \n",
       "3  ENFJ             1           0            0           1   \n",
       "4  INTP             0           0            1           0   \n",
       "\n",
       "                                               posts  \\\n",
       "0  'When asked of the things you wish you did ear...   \n",
       "1  'I love both and they are equally important to...   \n",
       "2  Really? You think implying that everyone who i...   \n",
       "3  'Love is a crazy thing.   Se is our best form ...   \n",
       "4  'I am a physics undergrad with a computation e...   \n",
       "\n",
       "                                         clean_posts  \n",
       "0   asked thing wish earlier       find answering...  \n",
       "1   love equally important  music window soul  in...  \n",
       "2  really  think implying everyone entrepreneur s...  \n",
       "3   love crazy thing     best form communication ...  \n",
       "4   physic undergrad computation emphasis  learni...  "
      ]
     },
     "execution_count": 18,
     "metadata": {},
     "output_type": "execute_result"
    },
    {
     "data": {
      "application/javascript": [
       "\n",
       "            setTimeout(function() {\n",
       "                var nbb_cell_id = 18;\n",
       "                var nbb_unformatted_code = \"# checking the cleaned and lemmitized data\\npersonality_data.head()\";\n",
       "                var nbb_formatted_code = \"# checking the cleaned and lemmitized data\\npersonality_data.head()\";\n",
       "                var nbb_cells = Jupyter.notebook.get_cells();\n",
       "                for (var i = 0; i < nbb_cells.length; ++i) {\n",
       "                    if (nbb_cells[i].input_prompt_number == nbb_cell_id) {\n",
       "                        if (nbb_cells[i].get_text() == nbb_unformatted_code) {\n",
       "                             nbb_cells[i].set_text(nbb_formatted_code);\n",
       "                        }\n",
       "                        break;\n",
       "                    }\n",
       "                }\n",
       "            }, 500);\n",
       "            "
      ],
      "text/plain": [
       "<IPython.core.display.Javascript object>"
      ]
     },
     "metadata": {},
     "output_type": "display_data"
    }
   ],
   "source": [
    "# checking the cleaned and lemmitized data\n",
    "personality_data.head()"
   ]
  },
  {
   "cell_type": "code",
   "execution_count": 19,
   "metadata": {},
   "outputs": [
    {
     "data": {
      "text/plain": [
       "(8588, 7)"
      ]
     },
     "execution_count": 19,
     "metadata": {},
     "output_type": "execute_result"
    },
    {
     "data": {
      "application/javascript": [
       "\n",
       "            setTimeout(function() {\n",
       "                var nbb_cell_id = 19;\n",
       "                var nbb_unformatted_code = \"personality_data.shape\";\n",
       "                var nbb_formatted_code = \"personality_data.shape\";\n",
       "                var nbb_cells = Jupyter.notebook.get_cells();\n",
       "                for (var i = 0; i < nbb_cells.length; ++i) {\n",
       "                    if (nbb_cells[i].input_prompt_number == nbb_cell_id) {\n",
       "                        if (nbb_cells[i].get_text() == nbb_unformatted_code) {\n",
       "                             nbb_cells[i].set_text(nbb_formatted_code);\n",
       "                        }\n",
       "                        break;\n",
       "                    }\n",
       "                }\n",
       "            }, 500);\n",
       "            "
      ],
      "text/plain": [
       "<IPython.core.display.Javascript object>"
      ]
     },
     "metadata": {},
     "output_type": "display_data"
    }
   ],
   "source": [
    "personality_data.shape"
   ]
  },
  {
   "cell_type": "code",
   "execution_count": 20,
   "metadata": {},
   "outputs": [
    {
     "data": {
      "application/javascript": [
       "\n",
       "            setTimeout(function() {\n",
       "                var nbb_cell_id = 20;\n",
       "                var nbb_unformatted_code = \"# lemmitizing took long. So saving the clean and lemmitized file to save time in further processing.\\npersonality_data.to_csv(\\\"data_ekta/clean_data_1.csv\\\", index=False)\";\n",
       "                var nbb_formatted_code = \"# lemmitizing took long. So saving the clean and lemmitized file to save time in further processing.\\npersonality_data.to_csv(\\\"data_ekta/clean_data_1.csv\\\", index=False)\";\n",
       "                var nbb_cells = Jupyter.notebook.get_cells();\n",
       "                for (var i = 0; i < nbb_cells.length; ++i) {\n",
       "                    if (nbb_cells[i].input_prompt_number == nbb_cell_id) {\n",
       "                        if (nbb_cells[i].get_text() == nbb_unformatted_code) {\n",
       "                             nbb_cells[i].set_text(nbb_formatted_code);\n",
       "                        }\n",
       "                        break;\n",
       "                    }\n",
       "                }\n",
       "            }, 500);\n",
       "            "
      ],
      "text/plain": [
       "<IPython.core.display.Javascript object>"
      ]
     },
     "metadata": {},
     "output_type": "display_data"
    }
   ],
   "source": [
    "# lemmitizing took long. So saving the clean and lemmitized file to save time in further processing.\n",
    "personality_data.to_csv(\"data_ekta/clean_data_1.csv\", index=False)"
   ]
  }
 ],
 "metadata": {
  "kernelspec": {
   "display_name": "project3",
   "language": "python",
   "name": "project3"
  },
  "language_info": {
   "codemirror_mode": {
    "name": "ipython",
    "version": 3
   },
   "file_extension": ".py",
   "mimetype": "text/x-python",
   "name": "python",
   "nbconvert_exporter": "python",
   "pygments_lexer": "ipython3",
   "version": "3.7.5"
  }
 },
 "nbformat": 4,
 "nbformat_minor": 4
}
